{
 "cells": [
  {
   "cell_type": "markdown",
   "id": "sustained-crazy",
   "metadata": {},
   "source": [
    "# Analysis of Pollution in the United States from 2000-2016\n",
    "#### Brittany Thomas"
   ]
  },
  {
   "cell_type": "markdown",
   "id": "happy-merit",
   "metadata": {},
   "source": [
    "## Section 1: Background "
   ]
  },
  {
   "cell_type": "markdown",
   "id": "julian-metropolitan",
   "metadata": {},
   "source": [
    "### Introduction"
   ]
  },
  {
   "cell_type": "markdown",
   "id": "hydraulic-optimum",
   "metadata": {},
   "source": [
    "Air pollution is a serious issue. According to the World Health Organization, [\"one third of deaths from stroke, lung cancer and heart disease are due to air pollution\"](https://www.who.int/news-room/spotlight/how-air-pollution-is-destroying-our-health) and [\"9 out of 10 people breathe polluted air\"](https://www.who.int/news-room/spotlight/how-air-pollution-is-destroying-our-health). A lot of pollution is created through the burning of fossil fuels and with how industrialized our society is, it makes me wonder how polluted this country is and will be in the future. Using data science, we can attempt to figure this out.\n",
    "\n",
    "\n",
    "The objective of this project is to analyze pollution data of different states between 2000-2016 and attempt to discover relationships and trends between different pollutants and time and regions using various data science techniques. "
   ]
  },
  {
   "cell_type": "markdown",
   "id": "pretty-thread",
   "metadata": {},
   "source": [
    "### Libraries Used"
   ]
  },
  {
   "cell_type": "code",
   "execution_count": 1,
   "id": "interested-possible",
   "metadata": {},
   "outputs": [],
   "source": [
    "import pandas as pd\n",
    "import numpy as np\n",
    "import matplotlib.pyplot as plt\n",
    "import seaborn as sns\n",
    "import statsmodels.api as sm\n",
    "from sklearn import linear_model\n",
    "from sklearn import tree\n",
    "import sklearn.model_selection as model_selection\n",
    "from sklearn.model_selection import GridSearchCV\n",
    "from sklearn.preprocessing import LabelEncoder"
   ]
  },
  {
   "cell_type": "markdown",
   "id": "appropriate-mailman",
   "metadata": {},
   "source": [
    "Some more information about the libraries that will be used in the project: \n",
    "- **pandas**: A data manipulation and storage library that I will use it to store my (tabular) data in a dataframe \n",
    "- **numpy**: A mathmateical library that I will use to perform various operations on the data \n",
    "- **matplotlib**: A plotting library that I will use to graph some data \n",
    "- **seaborn**: A data visualization library that I will use for graphing data\n",
    "- **statsmodels**: A statisical library that I will use to perform ordinary least squares regression \n",
    "- **sklearn**: A machine learning library that I will use to perform some predictive modeling of the data"
   ]
  },
  {
   "cell_type": "markdown",
   "id": "linear-future",
   "metadata": {},
   "source": [
    "##  Section 2: Data Collection"
   ]
  },
  {
   "cell_type": "markdown",
   "id": "polished-harvard",
   "metadata": {},
   "source": [
    "I knew from the start that I wanted to do a project about air pollution. After doing some research and looking through different data sources, I finally found a csv file from https://data.world/ (https://data.world/data-society/us-air-pollution-data)\n",
    "\n",
    "The data was taken from information documented by the U.S. EPA (United States Environmental Protection Agency) and is from the time frame of 2000 to 2016. "
   ]
  },
  {
   "cell_type": "markdown",
   "id": "offshore-freeze",
   "metadata": {},
   "source": [
    "To extract the data from the csv file, we can use Panda's read_csv method "
   ]
  },
  {
   "cell_type": "code",
   "execution_count": 2,
   "id": "amateur-listening",
   "metadata": {},
   "outputs": [
    {
     "data": {
      "text/html": [
       "<div>\n",
       "<style scoped>\n",
       "    .dataframe tbody tr th:only-of-type {\n",
       "        vertical-align: middle;\n",
       "    }\n",
       "\n",
       "    .dataframe tbody tr th {\n",
       "        vertical-align: top;\n",
       "    }\n",
       "\n",
       "    .dataframe thead th {\n",
       "        text-align: right;\n",
       "    }\n",
       "</style>\n",
       "<table border=\"1\" class=\"dataframe\">\n",
       "  <thead>\n",
       "    <tr style=\"text-align: right;\">\n",
       "      <th></th>\n",
       "      <th>Unnamed: 0</th>\n",
       "      <th>State Code</th>\n",
       "      <th>County Code</th>\n",
       "      <th>Site Num</th>\n",
       "      <th>Address</th>\n",
       "      <th>State</th>\n",
       "      <th>County</th>\n",
       "      <th>City</th>\n",
       "      <th>Date Local</th>\n",
       "      <th>NO2 Units</th>\n",
       "      <th>...</th>\n",
       "      <th>SO2 Units</th>\n",
       "      <th>SO2 Mean</th>\n",
       "      <th>SO2 1st Max Value</th>\n",
       "      <th>SO2 1st Max Hour</th>\n",
       "      <th>SO2 AQI</th>\n",
       "      <th>CO Units</th>\n",
       "      <th>CO Mean</th>\n",
       "      <th>CO 1st Max Value</th>\n",
       "      <th>CO 1st Max Hour</th>\n",
       "      <th>CO AQI</th>\n",
       "    </tr>\n",
       "  </thead>\n",
       "  <tbody>\n",
       "    <tr>\n",
       "      <th>0</th>\n",
       "      <td>0</td>\n",
       "      <td>4</td>\n",
       "      <td>13</td>\n",
       "      <td>3002</td>\n",
       "      <td>1645 E ROOSEVELT ST-CENTRAL PHOENIX STN</td>\n",
       "      <td>Arizona</td>\n",
       "      <td>Maricopa</td>\n",
       "      <td>Phoenix</td>\n",
       "      <td>2000-01-01</td>\n",
       "      <td>Parts per billion</td>\n",
       "      <td>...</td>\n",
       "      <td>Parts per billion</td>\n",
       "      <td>3.000000</td>\n",
       "      <td>9.0</td>\n",
       "      <td>21</td>\n",
       "      <td>13.0</td>\n",
       "      <td>Parts per million</td>\n",
       "      <td>1.145833</td>\n",
       "      <td>4.2</td>\n",
       "      <td>21</td>\n",
       "      <td>NaN</td>\n",
       "    </tr>\n",
       "    <tr>\n",
       "      <th>1</th>\n",
       "      <td>1</td>\n",
       "      <td>4</td>\n",
       "      <td>13</td>\n",
       "      <td>3002</td>\n",
       "      <td>1645 E ROOSEVELT ST-CENTRAL PHOENIX STN</td>\n",
       "      <td>Arizona</td>\n",
       "      <td>Maricopa</td>\n",
       "      <td>Phoenix</td>\n",
       "      <td>2000-01-01</td>\n",
       "      <td>Parts per billion</td>\n",
       "      <td>...</td>\n",
       "      <td>Parts per billion</td>\n",
       "      <td>3.000000</td>\n",
       "      <td>9.0</td>\n",
       "      <td>21</td>\n",
       "      <td>13.0</td>\n",
       "      <td>Parts per million</td>\n",
       "      <td>0.878947</td>\n",
       "      <td>2.2</td>\n",
       "      <td>23</td>\n",
       "      <td>25.0</td>\n",
       "    </tr>\n",
       "    <tr>\n",
       "      <th>2</th>\n",
       "      <td>2</td>\n",
       "      <td>4</td>\n",
       "      <td>13</td>\n",
       "      <td>3002</td>\n",
       "      <td>1645 E ROOSEVELT ST-CENTRAL PHOENIX STN</td>\n",
       "      <td>Arizona</td>\n",
       "      <td>Maricopa</td>\n",
       "      <td>Phoenix</td>\n",
       "      <td>2000-01-01</td>\n",
       "      <td>Parts per billion</td>\n",
       "      <td>...</td>\n",
       "      <td>Parts per billion</td>\n",
       "      <td>2.975000</td>\n",
       "      <td>6.6</td>\n",
       "      <td>23</td>\n",
       "      <td>NaN</td>\n",
       "      <td>Parts per million</td>\n",
       "      <td>1.145833</td>\n",
       "      <td>4.2</td>\n",
       "      <td>21</td>\n",
       "      <td>NaN</td>\n",
       "    </tr>\n",
       "    <tr>\n",
       "      <th>3</th>\n",
       "      <td>3</td>\n",
       "      <td>4</td>\n",
       "      <td>13</td>\n",
       "      <td>3002</td>\n",
       "      <td>1645 E ROOSEVELT ST-CENTRAL PHOENIX STN</td>\n",
       "      <td>Arizona</td>\n",
       "      <td>Maricopa</td>\n",
       "      <td>Phoenix</td>\n",
       "      <td>2000-01-01</td>\n",
       "      <td>Parts per billion</td>\n",
       "      <td>...</td>\n",
       "      <td>Parts per billion</td>\n",
       "      <td>2.975000</td>\n",
       "      <td>6.6</td>\n",
       "      <td>23</td>\n",
       "      <td>NaN</td>\n",
       "      <td>Parts per million</td>\n",
       "      <td>0.878947</td>\n",
       "      <td>2.2</td>\n",
       "      <td>23</td>\n",
       "      <td>25.0</td>\n",
       "    </tr>\n",
       "    <tr>\n",
       "      <th>4</th>\n",
       "      <td>4</td>\n",
       "      <td>4</td>\n",
       "      <td>13</td>\n",
       "      <td>3002</td>\n",
       "      <td>1645 E ROOSEVELT ST-CENTRAL PHOENIX STN</td>\n",
       "      <td>Arizona</td>\n",
       "      <td>Maricopa</td>\n",
       "      <td>Phoenix</td>\n",
       "      <td>2000-01-02</td>\n",
       "      <td>Parts per billion</td>\n",
       "      <td>...</td>\n",
       "      <td>Parts per billion</td>\n",
       "      <td>1.958333</td>\n",
       "      <td>3.0</td>\n",
       "      <td>22</td>\n",
       "      <td>4.0</td>\n",
       "      <td>Parts per million</td>\n",
       "      <td>0.850000</td>\n",
       "      <td>1.6</td>\n",
       "      <td>23</td>\n",
       "      <td>NaN</td>\n",
       "    </tr>\n",
       "  </tbody>\n",
       "</table>\n",
       "<p>5 rows × 29 columns</p>\n",
       "</div>"
      ],
      "text/plain": [
       "   Unnamed: 0  State Code  County Code  Site Num  \\\n",
       "0           0           4           13      3002   \n",
       "1           1           4           13      3002   \n",
       "2           2           4           13      3002   \n",
       "3           3           4           13      3002   \n",
       "4           4           4           13      3002   \n",
       "\n",
       "                                   Address    State    County     City  \\\n",
       "0  1645 E ROOSEVELT ST-CENTRAL PHOENIX STN  Arizona  Maricopa  Phoenix   \n",
       "1  1645 E ROOSEVELT ST-CENTRAL PHOENIX STN  Arizona  Maricopa  Phoenix   \n",
       "2  1645 E ROOSEVELT ST-CENTRAL PHOENIX STN  Arizona  Maricopa  Phoenix   \n",
       "3  1645 E ROOSEVELT ST-CENTRAL PHOENIX STN  Arizona  Maricopa  Phoenix   \n",
       "4  1645 E ROOSEVELT ST-CENTRAL PHOENIX STN  Arizona  Maricopa  Phoenix   \n",
       "\n",
       "   Date Local          NO2 Units  ...          SO2 Units  SO2 Mean  \\\n",
       "0  2000-01-01  Parts per billion  ...  Parts per billion  3.000000   \n",
       "1  2000-01-01  Parts per billion  ...  Parts per billion  3.000000   \n",
       "2  2000-01-01  Parts per billion  ...  Parts per billion  2.975000   \n",
       "3  2000-01-01  Parts per billion  ...  Parts per billion  2.975000   \n",
       "4  2000-01-02  Parts per billion  ...  Parts per billion  1.958333   \n",
       "\n",
       "   SO2 1st Max Value  SO2 1st Max Hour SO2 AQI           CO Units   CO Mean  \\\n",
       "0                9.0                21    13.0  Parts per million  1.145833   \n",
       "1                9.0                21    13.0  Parts per million  0.878947   \n",
       "2                6.6                23     NaN  Parts per million  1.145833   \n",
       "3                6.6                23     NaN  Parts per million  0.878947   \n",
       "4                3.0                22     4.0  Parts per million  0.850000   \n",
       "\n",
       "   CO 1st Max Value  CO 1st Max Hour CO AQI  \n",
       "0               4.2               21    NaN  \n",
       "1               2.2               23   25.0  \n",
       "2               4.2               21    NaN  \n",
       "3               2.2               23   25.0  \n",
       "4               1.6               23    NaN  \n",
       "\n",
       "[5 rows x 29 columns]"
      ]
     },
     "execution_count": 2,
     "metadata": {},
     "output_type": "execute_result"
    }
   ],
   "source": [
    "data = pd.read_csv(\"uspollution_pollution_us_2000_2016.csv\")\n",
    "data.head()"
   ]
  },
  {
   "cell_type": "markdown",
   "id": "finished-method",
   "metadata": {},
   "source": [
    "The columns are [from the dataset description]: \n",
    "- **State Code** : The code allocated by US EPA to each state\n",
    "- **County code** : The code of counties in a specific state allocated by US EPA\n",
    "- **Site Num** : The site number in a specific county allocated by US EPA\n",
    "- **Address**: Address of the monitoring site\n",
    "- **State** : State of monitoring site\n",
    "- **County** : County of monitoring site\n",
    "- **City** : City of the monitoring site\n",
    "- **Date Local** : Date of monitoring\n",
    "- **NO2/O3/SO2/CO Units** : The units measured for NO2/O3/SO2/CO\n",
    "- **NO2/O3/SO2/CO Mean** : The arithmetic mean of concentration of NO2/O3/SO2/CO within a given day\n",
    "- **NO2/O3/SO2/CO AQI** : The calculated air quality index of NO2/O3/SO2/CO within a given day\n",
    "- **NO2/O3/SO2/CO 1st Max Value** : The maximum value obtained for NO2/O3/SO2/CO concentration in a given day\n",
    "- **NO2/O3/SO2/CO 1st Max Hour** : The hour when the maximum NO2/O3/SO2/CO concentration was recorded in a given day"
   ]
  },
  {
   "cell_type": "markdown",
   "id": "bigger-astronomy",
   "metadata": {},
   "source": [
    "Some helpful additional information about the data: \n",
    "- NO2 is Nitrogen dioxide\n",
    "- O3 is Ozone \n",
    "- SO2 is Sulfur dioxide\n",
    "- CO is Carbon monoxide \n",
    "- Parts per million is 1000 times greater than parts per billion (1 ppm = 1000 ppb)\n",
    "- *The higher the AQI is, the worse the air quality is (i.e. the higher the level of pollution)*\n",
    "\n",
    "The last statement will be particularly helpful in future analysis"
   ]
  },
  {
   "cell_type": "markdown",
   "id": "special-operations",
   "metadata": {},
   "source": [
    "### Data Curation, Parsing and Management"
   ]
  },
  {
   "cell_type": "markdown",
   "id": "permanent-accreditation",
   "metadata": {},
   "source": [
    "This dataset contains a lot of data and to start off the tidying process, I'm first going to drop the Unnamed:0 column because that is an indexing column, but the dataframe already has an indexing column. "
   ]
  },
  {
   "cell_type": "code",
   "execution_count": 3,
   "id": "fiscal-constraint",
   "metadata": {},
   "outputs": [],
   "source": [
    "data = data.drop('Unnamed: 0', axis=1) "
   ]
  },
  {
   "cell_type": "markdown",
   "id": "documented-coast",
   "metadata": {},
   "source": [
    "I also want to get rid of any missing data to avoid having to deal with errors relating to NaN when I analyze the data. I'm using the complete case analysis approach (dropping missing values) to deal with it.\n",
    "\n",
    "This may skew some data and bias the sample because if we look at the first row, we see that there is data associated with the amount of CO in the air, there is just no CO AQI. Using this approach, we get rid of this row entirely. It's unfortunate that we lose this information, however, it is a sacrifice I am willing to make. \n",
    "\n",
    "If you are not like me and not willing to make this sacrifice, here are some resources and other methods you can use to handle missing data:\n",
    "- https://towardsdatascience.com/how-to-handle-missing-data-8646b18db0d4\n",
    "- https://pandas.pydata.org/pandas-docs/stable/user_guide/missing_data.html\n",
    "- https://scikit-learn.org/stable/modules/impute.html\n"
   ]
  },
  {
   "cell_type": "code",
   "execution_count": 4,
   "id": "informative-monday",
   "metadata": {},
   "outputs": [
    {
     "data": {
      "text/html": [
       "<div>\n",
       "<style scoped>\n",
       "    .dataframe tbody tr th:only-of-type {\n",
       "        vertical-align: middle;\n",
       "    }\n",
       "\n",
       "    .dataframe tbody tr th {\n",
       "        vertical-align: top;\n",
       "    }\n",
       "\n",
       "    .dataframe thead th {\n",
       "        text-align: right;\n",
       "    }\n",
       "</style>\n",
       "<table border=\"1\" class=\"dataframe\">\n",
       "  <thead>\n",
       "    <tr style=\"text-align: right;\">\n",
       "      <th></th>\n",
       "      <th>State Code</th>\n",
       "      <th>County Code</th>\n",
       "      <th>Site Num</th>\n",
       "      <th>Address</th>\n",
       "      <th>State</th>\n",
       "      <th>County</th>\n",
       "      <th>City</th>\n",
       "      <th>Date Local</th>\n",
       "      <th>NO2 Units</th>\n",
       "      <th>NO2 Mean</th>\n",
       "      <th>...</th>\n",
       "      <th>SO2 Units</th>\n",
       "      <th>SO2 Mean</th>\n",
       "      <th>SO2 1st Max Value</th>\n",
       "      <th>SO2 1st Max Hour</th>\n",
       "      <th>SO2 AQI</th>\n",
       "      <th>CO Units</th>\n",
       "      <th>CO Mean</th>\n",
       "      <th>CO 1st Max Value</th>\n",
       "      <th>CO 1st Max Hour</th>\n",
       "      <th>CO AQI</th>\n",
       "    </tr>\n",
       "  </thead>\n",
       "  <tbody>\n",
       "    <tr>\n",
       "      <th>1</th>\n",
       "      <td>4</td>\n",
       "      <td>13</td>\n",
       "      <td>3002</td>\n",
       "      <td>1645 E ROOSEVELT ST-CENTRAL PHOENIX STN</td>\n",
       "      <td>Arizona</td>\n",
       "      <td>Maricopa</td>\n",
       "      <td>Phoenix</td>\n",
       "      <td>2000-01-01</td>\n",
       "      <td>Parts per billion</td>\n",
       "      <td>19.041667</td>\n",
       "      <td>...</td>\n",
       "      <td>Parts per billion</td>\n",
       "      <td>3.000000</td>\n",
       "      <td>9.0</td>\n",
       "      <td>21</td>\n",
       "      <td>13.0</td>\n",
       "      <td>Parts per million</td>\n",
       "      <td>0.878947</td>\n",
       "      <td>2.2</td>\n",
       "      <td>23</td>\n",
       "      <td>25.0</td>\n",
       "    </tr>\n",
       "    <tr>\n",
       "      <th>5</th>\n",
       "      <td>4</td>\n",
       "      <td>13</td>\n",
       "      <td>3002</td>\n",
       "      <td>1645 E ROOSEVELT ST-CENTRAL PHOENIX STN</td>\n",
       "      <td>Arizona</td>\n",
       "      <td>Maricopa</td>\n",
       "      <td>Phoenix</td>\n",
       "      <td>2000-01-02</td>\n",
       "      <td>Parts per billion</td>\n",
       "      <td>22.958333</td>\n",
       "      <td>...</td>\n",
       "      <td>Parts per billion</td>\n",
       "      <td>1.958333</td>\n",
       "      <td>3.0</td>\n",
       "      <td>22</td>\n",
       "      <td>4.0</td>\n",
       "      <td>Parts per million</td>\n",
       "      <td>1.066667</td>\n",
       "      <td>2.3</td>\n",
       "      <td>0</td>\n",
       "      <td>26.0</td>\n",
       "    </tr>\n",
       "    <tr>\n",
       "      <th>9</th>\n",
       "      <td>4</td>\n",
       "      <td>13</td>\n",
       "      <td>3002</td>\n",
       "      <td>1645 E ROOSEVELT ST-CENTRAL PHOENIX STN</td>\n",
       "      <td>Arizona</td>\n",
       "      <td>Maricopa</td>\n",
       "      <td>Phoenix</td>\n",
       "      <td>2000-01-03</td>\n",
       "      <td>Parts per billion</td>\n",
       "      <td>38.125000</td>\n",
       "      <td>...</td>\n",
       "      <td>Parts per billion</td>\n",
       "      <td>5.250000</td>\n",
       "      <td>11.0</td>\n",
       "      <td>19</td>\n",
       "      <td>16.0</td>\n",
       "      <td>Parts per million</td>\n",
       "      <td>1.762500</td>\n",
       "      <td>2.5</td>\n",
       "      <td>8</td>\n",
       "      <td>28.0</td>\n",
       "    </tr>\n",
       "    <tr>\n",
       "      <th>13</th>\n",
       "      <td>4</td>\n",
       "      <td>13</td>\n",
       "      <td>3002</td>\n",
       "      <td>1645 E ROOSEVELT ST-CENTRAL PHOENIX STN</td>\n",
       "      <td>Arizona</td>\n",
       "      <td>Maricopa</td>\n",
       "      <td>Phoenix</td>\n",
       "      <td>2000-01-04</td>\n",
       "      <td>Parts per billion</td>\n",
       "      <td>40.260870</td>\n",
       "      <td>...</td>\n",
       "      <td>Parts per billion</td>\n",
       "      <td>7.083333</td>\n",
       "      <td>16.0</td>\n",
       "      <td>8</td>\n",
       "      <td>23.0</td>\n",
       "      <td>Parts per million</td>\n",
       "      <td>1.829167</td>\n",
       "      <td>3.0</td>\n",
       "      <td>23</td>\n",
       "      <td>34.0</td>\n",
       "    </tr>\n",
       "    <tr>\n",
       "      <th>17</th>\n",
       "      <td>4</td>\n",
       "      <td>13</td>\n",
       "      <td>3002</td>\n",
       "      <td>1645 E ROOSEVELT ST-CENTRAL PHOENIX STN</td>\n",
       "      <td>Arizona</td>\n",
       "      <td>Maricopa</td>\n",
       "      <td>Phoenix</td>\n",
       "      <td>2000-01-05</td>\n",
       "      <td>Parts per billion</td>\n",
       "      <td>48.450000</td>\n",
       "      <td>...</td>\n",
       "      <td>Parts per billion</td>\n",
       "      <td>8.708333</td>\n",
       "      <td>15.0</td>\n",
       "      <td>7</td>\n",
       "      <td>21.0</td>\n",
       "      <td>Parts per million</td>\n",
       "      <td>2.700000</td>\n",
       "      <td>3.7</td>\n",
       "      <td>2</td>\n",
       "      <td>42.0</td>\n",
       "    </tr>\n",
       "  </tbody>\n",
       "</table>\n",
       "<p>5 rows × 28 columns</p>\n",
       "</div>"
      ],
      "text/plain": [
       "    State Code  County Code  Site Num  \\\n",
       "1            4           13      3002   \n",
       "5            4           13      3002   \n",
       "9            4           13      3002   \n",
       "13           4           13      3002   \n",
       "17           4           13      3002   \n",
       "\n",
       "                                    Address    State    County     City  \\\n",
       "1   1645 E ROOSEVELT ST-CENTRAL PHOENIX STN  Arizona  Maricopa  Phoenix   \n",
       "5   1645 E ROOSEVELT ST-CENTRAL PHOENIX STN  Arizona  Maricopa  Phoenix   \n",
       "9   1645 E ROOSEVELT ST-CENTRAL PHOENIX STN  Arizona  Maricopa  Phoenix   \n",
       "13  1645 E ROOSEVELT ST-CENTRAL PHOENIX STN  Arizona  Maricopa  Phoenix   \n",
       "17  1645 E ROOSEVELT ST-CENTRAL PHOENIX STN  Arizona  Maricopa  Phoenix   \n",
       "\n",
       "    Date Local          NO2 Units   NO2 Mean  ...          SO2 Units  \\\n",
       "1   2000-01-01  Parts per billion  19.041667  ...  Parts per billion   \n",
       "5   2000-01-02  Parts per billion  22.958333  ...  Parts per billion   \n",
       "9   2000-01-03  Parts per billion  38.125000  ...  Parts per billion   \n",
       "13  2000-01-04  Parts per billion  40.260870  ...  Parts per billion   \n",
       "17  2000-01-05  Parts per billion  48.450000  ...  Parts per billion   \n",
       "\n",
       "    SO2 Mean  SO2 1st Max Value SO2 1st Max Hour  SO2 AQI           CO Units  \\\n",
       "1   3.000000                9.0               21     13.0  Parts per million   \n",
       "5   1.958333                3.0               22      4.0  Parts per million   \n",
       "9   5.250000               11.0               19     16.0  Parts per million   \n",
       "13  7.083333               16.0                8     23.0  Parts per million   \n",
       "17  8.708333               15.0                7     21.0  Parts per million   \n",
       "\n",
       "     CO Mean  CO 1st Max Value CO 1st Max Hour  CO AQI  \n",
       "1   0.878947               2.2              23    25.0  \n",
       "5   1.066667               2.3               0    26.0  \n",
       "9   1.762500               2.5               8    28.0  \n",
       "13  1.829167               3.0              23    34.0  \n",
       "17  2.700000               3.7               2    42.0  \n",
       "\n",
       "[5 rows x 28 columns]"
      ]
     },
     "execution_count": 4,
     "metadata": {},
     "output_type": "execute_result"
    }
   ],
   "source": [
    "data = data.dropna()\n",
    "\n",
    "tidy_data_df = data # Making a copy of this dataframe in case I want to use it later at the rawest tidy form \n",
    "\n",
    "data.head()"
   ]
  },
  {
   "cell_type": "markdown",
   "id": "guilty-solid",
   "metadata": {},
   "source": [
    "I now have a tidy dataframe. \n",
    "\n",
    "However, there are a few more data transformations I want to do to the dataframe before I start any analysis. \n",
    "\n",
    "The first thing I want to do is rename the column headers to remove the spaces, just to ease the process of extracting certain columns in the future. "
   ]
  },
  {
   "cell_type": "code",
   "execution_count": 5,
   "id": "apparent-certificate",
   "metadata": {},
   "outputs": [],
   "source": [
    "data.columns = [c.replace(' ', '_') for c in data.columns]"
   ]
  },
  {
   "cell_type": "markdown",
   "id": "quarterly-preview",
   "metadata": {},
   "source": [
    "I also want to see if I could remove the units columns (if they all are the same) and convert them so they all are in the same units. "
   ]
  },
  {
   "cell_type": "code",
   "execution_count": 6,
   "id": "nervous-permit",
   "metadata": {},
   "outputs": [
    {
     "data": {
      "text/plain": [
       "State_Code              47\n",
       "County_Code             73\n",
       "Site_Num               110\n",
       "Address                204\n",
       "State                   47\n",
       "County                 133\n",
       "City                   144\n",
       "Date_Local            5996\n",
       "NO2_Units                1\n",
       "NO2_Mean             31852\n",
       "NO2_1st_Max_Value      990\n",
       "NO2_1st_Max_Hour        24\n",
       "NO2_AQI                129\n",
       "O3_Units                 1\n",
       "O3_Mean               8190\n",
       "O3_1st_Max_Value       134\n",
       "O3_1st_Max_Hour         24\n",
       "O3_AQI                 125\n",
       "SO2_Units                1\n",
       "SO2_Mean             10471\n",
       "SO2_1st_Max_Value      810\n",
       "SO2_1st_Max_Hour        24\n",
       "SO2_AQI                140\n",
       "CO_Units                 1\n",
       "CO_Mean               3003\n",
       "CO_1st_Max_Value       111\n",
       "CO_1st_Max_Hour         24\n",
       "CO_AQI                 107\n",
       "dtype: int64"
      ]
     },
     "execution_count": 6,
     "metadata": {},
     "output_type": "execute_result"
    }
   ],
   "source": [
    "data.apply(lambda x: x.nunique())"
   ]
  },
  {
   "cell_type": "markdown",
   "id": "photographic-denmark",
   "metadata": {},
   "source": [
    "It looks like the units columns contain the same value for all entries, so I'm going to store them in a variable and then drop the columns. "
   ]
  },
  {
   "cell_type": "code",
   "execution_count": 7,
   "id": "tamil-array",
   "metadata": {},
   "outputs": [
    {
     "name": "stdout",
     "output_type": "stream",
     "text": [
      "Parts per billion   Parts per million   Parts per billion   Parts per million\n"
     ]
    }
   ],
   "source": [
    "# Store the units for NO2, O3, SO2 and CO before dropping columns \n",
    "NO2_units = data.iloc[0]['NO2_Units']\n",
    "O3_units = data.iloc[0]['O3_Units']\n",
    "SO2_units = data.iloc[0]['SO2_Units']\n",
    "CO_units = data.iloc[0]['CO_Units']\n",
    "\n",
    "print(NO2_units, \" \", O3_units, \" \", SO2_units, \" \", CO_units)"
   ]
  },
  {
   "cell_type": "code",
   "execution_count": 8,
   "id": "thorough-spectrum",
   "metadata": {},
   "outputs": [],
   "source": [
    "data = data.drop(columns=['NO2_Units', 'O3_Units', 'SO2_Units', 'CO_Units'], axis=1)"
   ]
  },
  {
   "cell_type": "markdown",
   "id": "earlier-heater",
   "metadata": {},
   "source": [
    "To make sure I am accurately representing the data later, I'm going to convert the parts per million values to parts per billion (so I will do this for CO and O3). To do this, simply multiple the original column by 1000."
   ]
  },
  {
   "cell_type": "code",
   "execution_count": 9,
   "id": "continent-google",
   "metadata": {},
   "outputs": [],
   "source": [
    "# Converting the data and making a new column\n",
    "data['O3_Mean_ppb'] = data['O3_Mean'] * 1000\n",
    "data['CO_Mean_ppb'] = data['CO_Mean'] * 1000\n",
    "\n",
    "data['O3_1st_Max_Value_ppb'] = data['O3_1st_Max_Value'] * 1000\n",
    "data['CO_1st_Max_Value_ppb'] = data['CO_1st_Max_Value'] * 1000"
   ]
  },
  {
   "cell_type": "markdown",
   "id": "raising-freeze",
   "metadata": {},
   "source": [
    "Since AQI is an index (meaning it already is standardized), there is no need for any conversion there. "
   ]
  },
  {
   "cell_type": "code",
   "execution_count": 10,
   "id": "intense-punishment",
   "metadata": {},
   "outputs": [
    {
     "data": {
      "text/html": [
       "<div>\n",
       "<style scoped>\n",
       "    .dataframe tbody tr th:only-of-type {\n",
       "        vertical-align: middle;\n",
       "    }\n",
       "\n",
       "    .dataframe tbody tr th {\n",
       "        vertical-align: top;\n",
       "    }\n",
       "\n",
       "    .dataframe thead th {\n",
       "        text-align: right;\n",
       "    }\n",
       "</style>\n",
       "<table border=\"1\" class=\"dataframe\">\n",
       "  <thead>\n",
       "    <tr style=\"text-align: right;\">\n",
       "      <th></th>\n",
       "      <th>State_Code</th>\n",
       "      <th>County_Code</th>\n",
       "      <th>Site_Num</th>\n",
       "      <th>Address</th>\n",
       "      <th>State</th>\n",
       "      <th>County</th>\n",
       "      <th>City</th>\n",
       "      <th>Date_Local</th>\n",
       "      <th>NO2_Mean</th>\n",
       "      <th>NO2_1st_Max_Value</th>\n",
       "      <th>...</th>\n",
       "      <th>SO2_1st_Max_Hour</th>\n",
       "      <th>SO2_AQI</th>\n",
       "      <th>CO_Mean</th>\n",
       "      <th>CO_1st_Max_Value</th>\n",
       "      <th>CO_1st_Max_Hour</th>\n",
       "      <th>CO_AQI</th>\n",
       "      <th>O3_Mean_ppb</th>\n",
       "      <th>CO_Mean_ppb</th>\n",
       "      <th>O3_1st_Max_Value_ppb</th>\n",
       "      <th>CO_1st_Max_Value_ppb</th>\n",
       "    </tr>\n",
       "  </thead>\n",
       "  <tbody>\n",
       "    <tr>\n",
       "      <th>1</th>\n",
       "      <td>4</td>\n",
       "      <td>13</td>\n",
       "      <td>3002</td>\n",
       "      <td>1645 E ROOSEVELT ST-CENTRAL PHOENIX STN</td>\n",
       "      <td>Arizona</td>\n",
       "      <td>Maricopa</td>\n",
       "      <td>Phoenix</td>\n",
       "      <td>2000-01-01</td>\n",
       "      <td>19.041667</td>\n",
       "      <td>49.0</td>\n",
       "      <td>...</td>\n",
       "      <td>21</td>\n",
       "      <td>13.0</td>\n",
       "      <td>0.878947</td>\n",
       "      <td>2.2</td>\n",
       "      <td>23</td>\n",
       "      <td>25.0</td>\n",
       "      <td>22.500</td>\n",
       "      <td>878.947</td>\n",
       "      <td>40.0</td>\n",
       "      <td>2200.0</td>\n",
       "    </tr>\n",
       "    <tr>\n",
       "      <th>5</th>\n",
       "      <td>4</td>\n",
       "      <td>13</td>\n",
       "      <td>3002</td>\n",
       "      <td>1645 E ROOSEVELT ST-CENTRAL PHOENIX STN</td>\n",
       "      <td>Arizona</td>\n",
       "      <td>Maricopa</td>\n",
       "      <td>Phoenix</td>\n",
       "      <td>2000-01-02</td>\n",
       "      <td>22.958333</td>\n",
       "      <td>36.0</td>\n",
       "      <td>...</td>\n",
       "      <td>22</td>\n",
       "      <td>4.0</td>\n",
       "      <td>1.066667</td>\n",
       "      <td>2.3</td>\n",
       "      <td>0</td>\n",
       "      <td>26.0</td>\n",
       "      <td>13.375</td>\n",
       "      <td>1066.667</td>\n",
       "      <td>32.0</td>\n",
       "      <td>2300.0</td>\n",
       "    </tr>\n",
       "    <tr>\n",
       "      <th>9</th>\n",
       "      <td>4</td>\n",
       "      <td>13</td>\n",
       "      <td>3002</td>\n",
       "      <td>1645 E ROOSEVELT ST-CENTRAL PHOENIX STN</td>\n",
       "      <td>Arizona</td>\n",
       "      <td>Maricopa</td>\n",
       "      <td>Phoenix</td>\n",
       "      <td>2000-01-03</td>\n",
       "      <td>38.125000</td>\n",
       "      <td>51.0</td>\n",
       "      <td>...</td>\n",
       "      <td>19</td>\n",
       "      <td>16.0</td>\n",
       "      <td>1.762500</td>\n",
       "      <td>2.5</td>\n",
       "      <td>8</td>\n",
       "      <td>28.0</td>\n",
       "      <td>7.958</td>\n",
       "      <td>1762.500</td>\n",
       "      <td>16.0</td>\n",
       "      <td>2500.0</td>\n",
       "    </tr>\n",
       "    <tr>\n",
       "      <th>13</th>\n",
       "      <td>4</td>\n",
       "      <td>13</td>\n",
       "      <td>3002</td>\n",
       "      <td>1645 E ROOSEVELT ST-CENTRAL PHOENIX STN</td>\n",
       "      <td>Arizona</td>\n",
       "      <td>Maricopa</td>\n",
       "      <td>Phoenix</td>\n",
       "      <td>2000-01-04</td>\n",
       "      <td>40.260870</td>\n",
       "      <td>74.0</td>\n",
       "      <td>...</td>\n",
       "      <td>8</td>\n",
       "      <td>23.0</td>\n",
       "      <td>1.829167</td>\n",
       "      <td>3.0</td>\n",
       "      <td>23</td>\n",
       "      <td>34.0</td>\n",
       "      <td>14.167</td>\n",
       "      <td>1829.167</td>\n",
       "      <td>33.0</td>\n",
       "      <td>3000.0</td>\n",
       "    </tr>\n",
       "    <tr>\n",
       "      <th>17</th>\n",
       "      <td>4</td>\n",
       "      <td>13</td>\n",
       "      <td>3002</td>\n",
       "      <td>1645 E ROOSEVELT ST-CENTRAL PHOENIX STN</td>\n",
       "      <td>Arizona</td>\n",
       "      <td>Maricopa</td>\n",
       "      <td>Phoenix</td>\n",
       "      <td>2000-01-05</td>\n",
       "      <td>48.450000</td>\n",
       "      <td>61.0</td>\n",
       "      <td>...</td>\n",
       "      <td>7</td>\n",
       "      <td>21.0</td>\n",
       "      <td>2.700000</td>\n",
       "      <td>3.7</td>\n",
       "      <td>2</td>\n",
       "      <td>42.0</td>\n",
       "      <td>6.667</td>\n",
       "      <td>2700.000</td>\n",
       "      <td>12.0</td>\n",
       "      <td>3700.0</td>\n",
       "    </tr>\n",
       "  </tbody>\n",
       "</table>\n",
       "<p>5 rows × 28 columns</p>\n",
       "</div>"
      ],
      "text/plain": [
       "    State_Code  County_Code  Site_Num  \\\n",
       "1            4           13      3002   \n",
       "5            4           13      3002   \n",
       "9            4           13      3002   \n",
       "13           4           13      3002   \n",
       "17           4           13      3002   \n",
       "\n",
       "                                    Address    State    County     City  \\\n",
       "1   1645 E ROOSEVELT ST-CENTRAL PHOENIX STN  Arizona  Maricopa  Phoenix   \n",
       "5   1645 E ROOSEVELT ST-CENTRAL PHOENIX STN  Arizona  Maricopa  Phoenix   \n",
       "9   1645 E ROOSEVELT ST-CENTRAL PHOENIX STN  Arizona  Maricopa  Phoenix   \n",
       "13  1645 E ROOSEVELT ST-CENTRAL PHOENIX STN  Arizona  Maricopa  Phoenix   \n",
       "17  1645 E ROOSEVELT ST-CENTRAL PHOENIX STN  Arizona  Maricopa  Phoenix   \n",
       "\n",
       "    Date_Local   NO2_Mean  NO2_1st_Max_Value  ...  SO2_1st_Max_Hour  SO2_AQI  \\\n",
       "1   2000-01-01  19.041667               49.0  ...                21     13.0   \n",
       "5   2000-01-02  22.958333               36.0  ...                22      4.0   \n",
       "9   2000-01-03  38.125000               51.0  ...                19     16.0   \n",
       "13  2000-01-04  40.260870               74.0  ...                 8     23.0   \n",
       "17  2000-01-05  48.450000               61.0  ...                 7     21.0   \n",
       "\n",
       "     CO_Mean  CO_1st_Max_Value  CO_1st_Max_Hour  CO_AQI  O3_Mean_ppb  \\\n",
       "1   0.878947               2.2               23    25.0       22.500   \n",
       "5   1.066667               2.3                0    26.0       13.375   \n",
       "9   1.762500               2.5                8    28.0        7.958   \n",
       "13  1.829167               3.0               23    34.0       14.167   \n",
       "17  2.700000               3.7                2    42.0        6.667   \n",
       "\n",
       "    CO_Mean_ppb  O3_1st_Max_Value_ppb  CO_1st_Max_Value_ppb  \n",
       "1       878.947                  40.0                2200.0  \n",
       "5      1066.667                  32.0                2300.0  \n",
       "9      1762.500                  16.0                2500.0  \n",
       "13     1829.167                  33.0                3000.0  \n",
       "17     2700.000                  12.0                3700.0  \n",
       "\n",
       "[5 rows x 28 columns]"
      ]
     },
     "execution_count": 10,
     "metadata": {},
     "output_type": "execute_result"
    }
   ],
   "source": [
    "data.head()"
   ]
  },
  {
   "cell_type": "markdown",
   "id": "gentle-showcase",
   "metadata": {},
   "source": [
    "Lastly, I want to create a year column, corresponding to the years the data was collected. "
   ]
  },
  {
   "cell_type": "code",
   "execution_count": 11,
   "id": "western-professor",
   "metadata": {},
   "outputs": [],
   "source": [
    "# Extracting a column \n",
    "dates = data['Date_Local']\n",
    "years = []\n",
    "\n",
    "for index, value in dates.items():\n",
    "    #The Date_Local column is formatted in such a way that the first 4 digits correspond to the year\n",
    "    years.append(value[0:4]) "
   ]
  },
  {
   "cell_type": "code",
   "execution_count": 12,
   "id": "charged-newfoundland",
   "metadata": {},
   "outputs": [
    {
     "data": {
      "text/html": [
       "<div>\n",
       "<style scoped>\n",
       "    .dataframe tbody tr th:only-of-type {\n",
       "        vertical-align: middle;\n",
       "    }\n",
       "\n",
       "    .dataframe tbody tr th {\n",
       "        vertical-align: top;\n",
       "    }\n",
       "\n",
       "    .dataframe thead th {\n",
       "        text-align: right;\n",
       "    }\n",
       "</style>\n",
       "<table border=\"1\" class=\"dataframe\">\n",
       "  <thead>\n",
       "    <tr style=\"text-align: right;\">\n",
       "      <th></th>\n",
       "      <th>State_Code</th>\n",
       "      <th>County_Code</th>\n",
       "      <th>Site_Num</th>\n",
       "      <th>Address</th>\n",
       "      <th>State</th>\n",
       "      <th>County</th>\n",
       "      <th>City</th>\n",
       "      <th>Date_Local</th>\n",
       "      <th>NO2_Mean</th>\n",
       "      <th>NO2_1st_Max_Value</th>\n",
       "      <th>...</th>\n",
       "      <th>SO2_AQI</th>\n",
       "      <th>CO_Mean</th>\n",
       "      <th>CO_1st_Max_Value</th>\n",
       "      <th>CO_1st_Max_Hour</th>\n",
       "      <th>CO_AQI</th>\n",
       "      <th>O3_Mean_ppb</th>\n",
       "      <th>CO_Mean_ppb</th>\n",
       "      <th>O3_1st_Max_Value_ppb</th>\n",
       "      <th>CO_1st_Max_Value_ppb</th>\n",
       "      <th>Year</th>\n",
       "    </tr>\n",
       "  </thead>\n",
       "  <tbody>\n",
       "    <tr>\n",
       "      <th>1</th>\n",
       "      <td>4</td>\n",
       "      <td>13</td>\n",
       "      <td>3002</td>\n",
       "      <td>1645 E ROOSEVELT ST-CENTRAL PHOENIX STN</td>\n",
       "      <td>Arizona</td>\n",
       "      <td>Maricopa</td>\n",
       "      <td>Phoenix</td>\n",
       "      <td>2000-01-01</td>\n",
       "      <td>19.041667</td>\n",
       "      <td>49.0</td>\n",
       "      <td>...</td>\n",
       "      <td>13.0</td>\n",
       "      <td>0.878947</td>\n",
       "      <td>2.2</td>\n",
       "      <td>23</td>\n",
       "      <td>25.0</td>\n",
       "      <td>22.500</td>\n",
       "      <td>878.947</td>\n",
       "      <td>40.0</td>\n",
       "      <td>2200.0</td>\n",
       "      <td>2000</td>\n",
       "    </tr>\n",
       "    <tr>\n",
       "      <th>5</th>\n",
       "      <td>4</td>\n",
       "      <td>13</td>\n",
       "      <td>3002</td>\n",
       "      <td>1645 E ROOSEVELT ST-CENTRAL PHOENIX STN</td>\n",
       "      <td>Arizona</td>\n",
       "      <td>Maricopa</td>\n",
       "      <td>Phoenix</td>\n",
       "      <td>2000-01-02</td>\n",
       "      <td>22.958333</td>\n",
       "      <td>36.0</td>\n",
       "      <td>...</td>\n",
       "      <td>4.0</td>\n",
       "      <td>1.066667</td>\n",
       "      <td>2.3</td>\n",
       "      <td>0</td>\n",
       "      <td>26.0</td>\n",
       "      <td>13.375</td>\n",
       "      <td>1066.667</td>\n",
       "      <td>32.0</td>\n",
       "      <td>2300.0</td>\n",
       "      <td>2000</td>\n",
       "    </tr>\n",
       "    <tr>\n",
       "      <th>9</th>\n",
       "      <td>4</td>\n",
       "      <td>13</td>\n",
       "      <td>3002</td>\n",
       "      <td>1645 E ROOSEVELT ST-CENTRAL PHOENIX STN</td>\n",
       "      <td>Arizona</td>\n",
       "      <td>Maricopa</td>\n",
       "      <td>Phoenix</td>\n",
       "      <td>2000-01-03</td>\n",
       "      <td>38.125000</td>\n",
       "      <td>51.0</td>\n",
       "      <td>...</td>\n",
       "      <td>16.0</td>\n",
       "      <td>1.762500</td>\n",
       "      <td>2.5</td>\n",
       "      <td>8</td>\n",
       "      <td>28.0</td>\n",
       "      <td>7.958</td>\n",
       "      <td>1762.500</td>\n",
       "      <td>16.0</td>\n",
       "      <td>2500.0</td>\n",
       "      <td>2000</td>\n",
       "    </tr>\n",
       "    <tr>\n",
       "      <th>13</th>\n",
       "      <td>4</td>\n",
       "      <td>13</td>\n",
       "      <td>3002</td>\n",
       "      <td>1645 E ROOSEVELT ST-CENTRAL PHOENIX STN</td>\n",
       "      <td>Arizona</td>\n",
       "      <td>Maricopa</td>\n",
       "      <td>Phoenix</td>\n",
       "      <td>2000-01-04</td>\n",
       "      <td>40.260870</td>\n",
       "      <td>74.0</td>\n",
       "      <td>...</td>\n",
       "      <td>23.0</td>\n",
       "      <td>1.829167</td>\n",
       "      <td>3.0</td>\n",
       "      <td>23</td>\n",
       "      <td>34.0</td>\n",
       "      <td>14.167</td>\n",
       "      <td>1829.167</td>\n",
       "      <td>33.0</td>\n",
       "      <td>3000.0</td>\n",
       "      <td>2000</td>\n",
       "    </tr>\n",
       "    <tr>\n",
       "      <th>17</th>\n",
       "      <td>4</td>\n",
       "      <td>13</td>\n",
       "      <td>3002</td>\n",
       "      <td>1645 E ROOSEVELT ST-CENTRAL PHOENIX STN</td>\n",
       "      <td>Arizona</td>\n",
       "      <td>Maricopa</td>\n",
       "      <td>Phoenix</td>\n",
       "      <td>2000-01-05</td>\n",
       "      <td>48.450000</td>\n",
       "      <td>61.0</td>\n",
       "      <td>...</td>\n",
       "      <td>21.0</td>\n",
       "      <td>2.700000</td>\n",
       "      <td>3.7</td>\n",
       "      <td>2</td>\n",
       "      <td>42.0</td>\n",
       "      <td>6.667</td>\n",
       "      <td>2700.000</td>\n",
       "      <td>12.0</td>\n",
       "      <td>3700.0</td>\n",
       "      <td>2000</td>\n",
       "    </tr>\n",
       "  </tbody>\n",
       "</table>\n",
       "<p>5 rows × 29 columns</p>\n",
       "</div>"
      ],
      "text/plain": [
       "    State_Code  County_Code  Site_Num  \\\n",
       "1            4           13      3002   \n",
       "5            4           13      3002   \n",
       "9            4           13      3002   \n",
       "13           4           13      3002   \n",
       "17           4           13      3002   \n",
       "\n",
       "                                    Address    State    County     City  \\\n",
       "1   1645 E ROOSEVELT ST-CENTRAL PHOENIX STN  Arizona  Maricopa  Phoenix   \n",
       "5   1645 E ROOSEVELT ST-CENTRAL PHOENIX STN  Arizona  Maricopa  Phoenix   \n",
       "9   1645 E ROOSEVELT ST-CENTRAL PHOENIX STN  Arizona  Maricopa  Phoenix   \n",
       "13  1645 E ROOSEVELT ST-CENTRAL PHOENIX STN  Arizona  Maricopa  Phoenix   \n",
       "17  1645 E ROOSEVELT ST-CENTRAL PHOENIX STN  Arizona  Maricopa  Phoenix   \n",
       "\n",
       "    Date_Local   NO2_Mean  NO2_1st_Max_Value  ...  SO2_AQI   CO_Mean  \\\n",
       "1   2000-01-01  19.041667               49.0  ...     13.0  0.878947   \n",
       "5   2000-01-02  22.958333               36.0  ...      4.0  1.066667   \n",
       "9   2000-01-03  38.125000               51.0  ...     16.0  1.762500   \n",
       "13  2000-01-04  40.260870               74.0  ...     23.0  1.829167   \n",
       "17  2000-01-05  48.450000               61.0  ...     21.0  2.700000   \n",
       "\n",
       "    CO_1st_Max_Value  CO_1st_Max_Hour  CO_AQI  O3_Mean_ppb  CO_Mean_ppb  \\\n",
       "1                2.2               23    25.0       22.500      878.947   \n",
       "5                2.3                0    26.0       13.375     1066.667   \n",
       "9                2.5                8    28.0        7.958     1762.500   \n",
       "13               3.0               23    34.0       14.167     1829.167   \n",
       "17               3.7                2    42.0        6.667     2700.000   \n",
       "\n",
       "    O3_1st_Max_Value_ppb  CO_1st_Max_Value_ppb  Year  \n",
       "1                   40.0                2200.0  2000  \n",
       "5                   32.0                2300.0  2000  \n",
       "9                   16.0                2500.0  2000  \n",
       "13                  33.0                3000.0  2000  \n",
       "17                  12.0                3700.0  2000  \n",
       "\n",
       "[5 rows x 29 columns]"
      ]
     },
     "execution_count": 12,
     "metadata": {},
     "output_type": "execute_result"
    }
   ],
   "source": [
    "# Adding a Year column to the data frame\n",
    "data['Year'] = years\n",
    "data.head()"
   ]
  },
  {
   "cell_type": "markdown",
   "id": "split-location",
   "metadata": {},
   "source": [
    "Now, I can finally move on to the analysis. "
   ]
  },
  {
   "cell_type": "markdown",
   "id": "noble-native",
   "metadata": {},
   "source": [
    "## Section 3: Exploratory Data Analysis:"
   ]
  },
  {
   "cell_type": "markdown",
   "id": "bibliographic-housing",
   "metadata": {},
   "source": [
    "Exploratory Data Analysis, or EDA for short, is the phase in the data science pipeline where we start to look into our data and look at different trends/patterns, interesting statistics and visualizations.  "
   ]
  },
  {
   "cell_type": "markdown",
   "id": "partial-testing",
   "metadata": {},
   "source": [
    "### Scatter Plot: Pollutant AQI vs Time"
   ]
  },
  {
   "cell_type": "markdown",
   "id": "mighty-fleet",
   "metadata": {},
   "source": [
    "With that in mind, the first potential relationship I want to look at is time and the air quality index of the United States. \n",
    "\n",
    "Since there is no general AQI (meaning an AQI relating to all of the pollutants combined), I'm going to analyze the relationship between each of the four polluntant's AQI and time. "
   ]
  },
  {
   "cell_type": "markdown",
   "id": "convinced-brazil",
   "metadata": {},
   "source": [
    "I can first make scatter plots for each pollutant and try to observe a trend. I will be using Matplotlib's scatterplot function to do this."
   ]
  },
  {
   "cell_type": "markdown",
   "id": "earlier-entrepreneur",
   "metadata": {},
   "source": [
    "The first pollutant is NO2. "
   ]
  },
  {
   "cell_type": "code",
   "execution_count": 13,
   "id": "designed-footage",
   "metadata": {},
   "outputs": [
    {
     "data": {
      "image/png": "[encoded data removed]",
      "text/plain": [
       "<Figure size 432x288 with 1 Axes>"
      ]
     },
     "metadata": {
      "needs_background": "light"
     },
     "output_type": "display_data"
    }
   ],
   "source": [
    "data.plot.scatter(x='Year', y='NO2_AQI')\n",
    "plt.title(\"NO2 AQI Across Time\")\n",
    "plt.xlabel(\"Time (years)\")\n",
    "plt.ylabel(\"AQI\")\n",
    "# Replacing the x-axis ticks so graph is more readable \n",
    "plt.xticks([0,1,2,3,4,5,6,7,8,9,10,11,12,13,14,15,16], ['00','01','02','03','04','05','06','07','08','09','10','11','12','13','14','15','16'])\n",
    "plt.show()"
   ]
  },
  {
   "cell_type": "markdown",
   "id": "reserved-survey",
   "metadata": {},
   "source": [
    "This is a very dense graph (there is a lot of data being plotted). However, one can notice a subtle downward decline as time progresses. As time goes on, there are fewer points plotting in the upper region (corresponding to an AQI between 100-120).\n",
    "\n",
    "How about O3? "
   ]
  },
  {
   "cell_type": "code",
   "execution_count": 14,
   "id": "public-grace",
   "metadata": {},
   "outputs": [
    {
     "data": {
      "image/png": "[encoded data removed]",
      "text/plain": [
       "<Figure size 432x288 with 1 Axes>"
      ]
     },
     "metadata": {
      "needs_background": "light"
     },
     "output_type": "display_data"
    }
   ],
   "source": [
    "data.plot.scatter(x='Year', y='O3_AQI', color='red')\n",
    "plt.title(\"O3 AQI Across Time\")\n",
    "plt.xlabel(\"Time (years)\")\n",
    "plt.ylabel(\"AQI\")\n",
    "plt.xticks([0,1,2,3,4,5,6,7,8,9,10,11,12,13,14,15,16], ['00','01','02','03','04','05','06','07','08','09','10','11','12','13','14','15','16'])\n",
    "plt.show()"
   ]
  },
  {
   "cell_type": "markdown",
   "id": "automotive-incidence",
   "metadata": {},
   "source": [
    "Once again, very dense. A pattern is also less noticable for this one. At the start, there seems to be no change in the AQI until around 2009-2010. Then it shoots back up and goes down a bit in 2016. Is this enough to be considered a downward trend? Further analysis needs to be done to say for sure.\n",
    "\n",
    "Next up is SO2."
   ]
  },
  {
   "cell_type": "code",
   "execution_count": 15,
   "id": "scheduled-wilderness",
   "metadata": {},
   "outputs": [
    {
     "data": {
      "image/png": "[encoded data removed]",
      "text/plain": [
       "<Figure size 432x288 with 1 Axes>"
      ]
     },
     "metadata": {
      "needs_background": "light"
     },
     "output_type": "display_data"
    }
   ],
   "source": [
    "data.plot.scatter(x='Year', y='SO2_AQI', color='green')\n",
    "plt.title(\"SO2 AQI Across Time\")\n",
    "plt.xlabel(\"Time (years)\")\n",
    "plt.ylabel(\"AQI\")\n",
    "plt.xticks([0,1,2,3,4,5,6,7,8,9,10,11,12,13,14,15,16], ['00','01','02','03','04','05','06','07','08','09','10','11','12','13','14','15','16'])\n",
    "plt.show()"
   ]
  },
  {
   "cell_type": "markdown",
   "id": "reverse-dayton",
   "metadata": {},
   "source": [
    "We see the points are generally decreasing overtime (more points are plotted at lower AQI for later years).\n",
    "\n",
    "Finally we have CO."
   ]
  },
  {
   "cell_type": "code",
   "execution_count": 16,
   "id": "enabling-bundle",
   "metadata": {},
   "outputs": [
    {
     "data": {
      "image/png": "[encoded data removed]",
      "text/plain": [
       "<Figure size 432x288 with 1 Axes>"
      ]
     },
     "metadata": {
      "needs_background": "light"
     },
     "output_type": "display_data"
    }
   ],
   "source": [
    "data.plot.scatter(x='Year', y='CO_AQI', color='orange')\n",
    "plt.title(\"CO AQI Across Time\")\n",
    "plt.xlabel(\"Time (years)\")\n",
    "plt.ylabel(\"AQI\")\n",
    "plt.xticks([0,1,2,3,4,5,6,7,8,9,10,11,12,13,14,15,16], ['00','01','02','03','04','05','06','07','08','09','10','11','12','13','14','15','16'])\n",
    "plt.show()"
   ]
  },
  {
   "cell_type": "markdown",
   "id": "parliamentary-purpose",
   "metadata": {},
   "source": [
    "There seems to be a wide range for the AQI in 2000. However, the data looks fairly consistent throughout the years and slowly seems to be decreasing.\n",
    "\n",
    "Some final takeaways from these scatterplots: The AQI for all the pollutants going down (generally) as time passes. O3 also generally had the greatest AQI. "
   ]
  },
  {
   "cell_type": "markdown",
   "id": "comfortable-infrastructure",
   "metadata": {},
   "source": [
    "### Line Plot: Mean AQI vs Times"
   ]
  },
  {
   "cell_type": "markdown",
   "id": "established-efficiency",
   "metadata": {},
   "source": [
    "The next thing I want to analyze is the mean AQI for each pollutant throughout the years to maybe identify a pattern between AQI and time more clearly. "
   ]
  },
  {
   "cell_type": "markdown",
   "id": "buried-spencer",
   "metadata": {},
   "source": [
    "The pandas library has a really useful feature of grouping (groupby), which will be very helpful in this section \n",
    "(https://pandas.pydata.org/pandas-docs/stable/reference/api/pandas.DataFrame.groupby.html). \n",
    "\n",
    "I'm going to groupby the year column I added and take the mean for each pollutant. I need to do this separately for each pollutant and then I will graph them all."
   ]
  },
  {
   "cell_type": "code",
   "execution_count": 17,
   "id": "ideal-aerospace",
   "metadata": {},
   "outputs": [
    {
     "data": {
      "text/html": [
       "<div>\n",
       "<style scoped>\n",
       "    .dataframe tbody tr th:only-of-type {\n",
       "        vertical-align: middle;\n",
       "    }\n",
       "\n",
       "    .dataframe tbody tr th {\n",
       "        vertical-align: top;\n",
       "    }\n",
       "\n",
       "    .dataframe thead th {\n",
       "        text-align: right;\n",
       "    }\n",
       "</style>\n",
       "<table border=\"1\" class=\"dataframe\">\n",
       "  <thead>\n",
       "    <tr style=\"text-align: right;\">\n",
       "      <th></th>\n",
       "      <th>Year</th>\n",
       "      <th>NO2_AQI</th>\n",
       "    </tr>\n",
       "  </thead>\n",
       "  <tbody>\n",
       "    <tr>\n",
       "      <th>0</th>\n",
       "      <td>2000</td>\n",
       "      <td>30.969852</td>\n",
       "    </tr>\n",
       "    <tr>\n",
       "      <th>1</th>\n",
       "      <td>2001</td>\n",
       "      <td>31.310673</td>\n",
       "    </tr>\n",
       "    <tr>\n",
       "      <th>2</th>\n",
       "      <td>2002</td>\n",
       "      <td>29.363726</td>\n",
       "    </tr>\n",
       "    <tr>\n",
       "      <th>3</th>\n",
       "      <td>2003</td>\n",
       "      <td>28.334598</td>\n",
       "    </tr>\n",
       "    <tr>\n",
       "      <th>4</th>\n",
       "      <td>2004</td>\n",
       "      <td>26.940324</td>\n",
       "    </tr>\n",
       "  </tbody>\n",
       "</table>\n",
       "</div>"
      ],
      "text/plain": [
       "   Year    NO2_AQI\n",
       "0  2000  30.969852\n",
       "1  2001  31.310673\n",
       "2  2002  29.363726\n",
       "3  2003  28.334598\n",
       "4  2004  26.940324"
      ]
     },
     "execution_count": 17,
     "metadata": {},
     "output_type": "execute_result"
    }
   ],
   "source": [
    "# Grouping by year for mean NO2 AQI\n",
    "year_vs_NO2_AQI_df = data.groupby('Year').NO2_AQI.mean().reset_index()\n",
    "year_vs_NO2_AQI_df.head()"
   ]
  },
  {
   "cell_type": "code",
   "execution_count": 18,
   "id": "pretty-dairy",
   "metadata": {},
   "outputs": [
    {
     "data": {
      "text/html": [
       "<div>\n",
       "<style scoped>\n",
       "    .dataframe tbody tr th:only-of-type {\n",
       "        vertical-align: middle;\n",
       "    }\n",
       "\n",
       "    .dataframe tbody tr th {\n",
       "        vertical-align: top;\n",
       "    }\n",
       "\n",
       "    .dataframe thead th {\n",
       "        text-align: right;\n",
       "    }\n",
       "</style>\n",
       "<table border=\"1\" class=\"dataframe\">\n",
       "  <thead>\n",
       "    <tr style=\"text-align: right;\">\n",
       "      <th></th>\n",
       "      <th>Year</th>\n",
       "      <th>O3_AQI</th>\n",
       "    </tr>\n",
       "  </thead>\n",
       "  <tbody>\n",
       "    <tr>\n",
       "      <th>0</th>\n",
       "      <td>2000</td>\n",
       "      <td>36.022688</td>\n",
       "    </tr>\n",
       "    <tr>\n",
       "      <th>1</th>\n",
       "      <td>2001</td>\n",
       "      <td>37.641191</td>\n",
       "    </tr>\n",
       "    <tr>\n",
       "      <th>2</th>\n",
       "      <td>2002</td>\n",
       "      <td>39.559160</td>\n",
       "    </tr>\n",
       "    <tr>\n",
       "      <th>3</th>\n",
       "      <td>2003</td>\n",
       "      <td>36.631114</td>\n",
       "    </tr>\n",
       "    <tr>\n",
       "      <th>4</th>\n",
       "      <td>2004</td>\n",
       "      <td>34.741209</td>\n",
       "    </tr>\n",
       "  </tbody>\n",
       "</table>\n",
       "</div>"
      ],
      "text/plain": [
       "   Year     O3_AQI\n",
       "0  2000  36.022688\n",
       "1  2001  37.641191\n",
       "2  2002  39.559160\n",
       "3  2003  36.631114\n",
       "4  2004  34.741209"
      ]
     },
     "execution_count": 18,
     "metadata": {},
     "output_type": "execute_result"
    }
   ],
   "source": [
    "# Grouping by year for mean 03 AQI\n",
    "year_vs_O3_AQI_df = data.groupby('Year').O3_AQI.mean().reset_index()\n",
    "year_vs_O3_AQI_df.head()"
   ]
  },
  {
   "cell_type": "code",
   "execution_count": 19,
   "id": "classified-spoke",
   "metadata": {},
   "outputs": [
    {
     "data": {
      "text/html": [
       "<div>\n",
       "<style scoped>\n",
       "    .dataframe tbody tr th:only-of-type {\n",
       "        vertical-align: middle;\n",
       "    }\n",
       "\n",
       "    .dataframe tbody tr th {\n",
       "        vertical-align: top;\n",
       "    }\n",
       "\n",
       "    .dataframe thead th {\n",
       "        text-align: right;\n",
       "    }\n",
       "</style>\n",
       "<table border=\"1\" class=\"dataframe\">\n",
       "  <thead>\n",
       "    <tr style=\"text-align: right;\">\n",
       "      <th></th>\n",
       "      <th>Year</th>\n",
       "      <th>SO2_AQI</th>\n",
       "    </tr>\n",
       "  </thead>\n",
       "  <tbody>\n",
       "    <tr>\n",
       "      <th>0</th>\n",
       "      <td>2000</td>\n",
       "      <td>14.260908</td>\n",
       "    </tr>\n",
       "    <tr>\n",
       "      <th>1</th>\n",
       "      <td>2001</td>\n",
       "      <td>12.836909</td>\n",
       "    </tr>\n",
       "    <tr>\n",
       "      <th>2</th>\n",
       "      <td>2002</td>\n",
       "      <td>11.030905</td>\n",
       "    </tr>\n",
       "    <tr>\n",
       "      <th>3</th>\n",
       "      <td>2003</td>\n",
       "      <td>11.328351</td>\n",
       "    </tr>\n",
       "    <tr>\n",
       "      <th>4</th>\n",
       "      <td>2004</td>\n",
       "      <td>11.249550</td>\n",
       "    </tr>\n",
       "  </tbody>\n",
       "</table>\n",
       "</div>"
      ],
      "text/plain": [
       "   Year    SO2_AQI\n",
       "0  2000  14.260908\n",
       "1  2001  12.836909\n",
       "2  2002  11.030905\n",
       "3  2003  11.328351\n",
       "4  2004  11.249550"
      ]
     },
     "execution_count": 19,
     "metadata": {},
     "output_type": "execute_result"
    }
   ],
   "source": [
    "# Grouping by year for mean S02 AQI\n",
    "year_vs_SO2_AQI_df = data.groupby('Year').SO2_AQI.mean().reset_index()\n",
    "year_vs_SO2_AQI_df.head()"
   ]
  },
  {
   "cell_type": "code",
   "execution_count": 20,
   "id": "racial-hungary",
   "metadata": {},
   "outputs": [
    {
     "data": {
      "text/html": [
       "<div>\n",
       "<style scoped>\n",
       "    .dataframe tbody tr th:only-of-type {\n",
       "        vertical-align: middle;\n",
       "    }\n",
       "\n",
       "    .dataframe tbody tr th {\n",
       "        vertical-align: top;\n",
       "    }\n",
       "\n",
       "    .dataframe thead th {\n",
       "        text-align: right;\n",
       "    }\n",
       "</style>\n",
       "<table border=\"1\" class=\"dataframe\">\n",
       "  <thead>\n",
       "    <tr style=\"text-align: right;\">\n",
       "      <th></th>\n",
       "      <th>Year</th>\n",
       "      <th>CO_AQI</th>\n",
       "    </tr>\n",
       "  </thead>\n",
       "  <tbody>\n",
       "    <tr>\n",
       "      <th>0</th>\n",
       "      <td>2000</td>\n",
       "      <td>9.540096</td>\n",
       "    </tr>\n",
       "    <tr>\n",
       "      <th>1</th>\n",
       "      <td>2001</td>\n",
       "      <td>8.792393</td>\n",
       "    </tr>\n",
       "    <tr>\n",
       "      <th>2</th>\n",
       "      <td>2002</td>\n",
       "      <td>8.486407</td>\n",
       "    </tr>\n",
       "    <tr>\n",
       "      <th>3</th>\n",
       "      <td>2003</td>\n",
       "      <td>8.246634</td>\n",
       "    </tr>\n",
       "    <tr>\n",
       "      <th>4</th>\n",
       "      <td>2004</td>\n",
       "      <td>7.411070</td>\n",
       "    </tr>\n",
       "  </tbody>\n",
       "</table>\n",
       "</div>"
      ],
      "text/plain": [
       "   Year    CO_AQI\n",
       "0  2000  9.540096\n",
       "1  2001  8.792393\n",
       "2  2002  8.486407\n",
       "3  2003  8.246634\n",
       "4  2004  7.411070"
      ]
     },
     "execution_count": 20,
     "metadata": {},
     "output_type": "execute_result"
    }
   ],
   "source": [
    "# Grouping by year for mean CO AQI\n",
    "year_vs_CO_AQI_df = data.groupby('Year').CO_AQI.mean().reset_index()\n",
    "year_vs_CO_AQI_df.head()"
   ]
  },
  {
   "cell_type": "markdown",
   "id": "smoking-strip",
   "metadata": {},
   "source": [
    "Now that I got separate dataframes of years and mean AQI for each pollutant, I can use seaborn to plot the lines on a single plot."
   ]
  },
  {
   "cell_type": "code",
   "execution_count": 21,
   "id": "seasonal-frederick",
   "metadata": {},
   "outputs": [
    {
     "data": {
      "image/png": "[encoded data removed]",
      "text/plain": [
       "<Figure size 648x432 with 1 Axes>"
      ]
     },
     "metadata": {
      "needs_background": "light"
     },
     "output_type": "display_data"
    }
   ],
   "source": [
    "plt.figure(figsize=(9,6)) \n",
    "# Adding a title to plot\n",
    "plt.title('Mean AQI For Pollutants Across the United States (2000-2016)', fontsize=15) \n",
    "# Labeling y-axis \n",
    "plt.ylabel(\"Mean AQI\") \n",
    "# Graphing the lines with year as x component and pollutant mean AQI for y component \n",
    "sns.lineplot(x=year_vs_NO2_AQI_df.Year, y=year_vs_NO2_AQI_df.NO2_AQI, ci = None)\n",
    "sns.lineplot(x=year_vs_O3_AQI_df.Year, y=year_vs_O3_AQI_df.O3_AQI, ci = None)\n",
    "sns.lineplot(x=year_vs_SO2_AQI_df.Year, y=year_vs_SO2_AQI_df.SO2_AQI, ci = None)\n",
    "sns.lineplot(x=year_vs_CO_AQI_df.Year, y=year_vs_CO_AQI_df.CO_AQI, ci = None)\n",
    "plt.legend(['NO2', 'CO', 'SO2', 'O3'])\n",
    "plt.show()"
   ]
  },
  {
   "cell_type": "markdown",
   "id": "naughty-plain",
   "metadata": {},
   "source": [
    "The mean AQI vs year is fairly consistent with what the scatter plots for each pollutants showed earlier. Each pollutant seems to have a downward trend, albiet with different rates (since the lines aren't parallel). \n",
    "\n",
    "Some interesting things to note from this graph is that we see that in later years, the mean AQI for ozone starts to become greater than sulfur dioxide (the lines intersect). This seems to be due to SO2 AQI decreasing a lot quicker than O3 (SO2 has a steeper line). It also is good to note that CO seems to have the highest mean AQI (around 40-35), followed by NO2. "
   ]
  },
  {
   "cell_type": "markdown",
   "id": "corporate-ideal",
   "metadata": {},
   "source": [
    "### Line Plot: Mean Concentration vs Time"
   ]
  },
  {
   "cell_type": "markdown",
   "id": "third-sherman",
   "metadata": {},
   "source": [
    "Next, I want to see how the mean of each pollutant changes over time. "
   ]
  },
  {
   "cell_type": "markdown",
   "id": "hindu-inflation",
   "metadata": {},
   "source": [
    "The method to do this is the same as above (grouping) and to save time/space, I won't be displaying the results of each groupby, only one."
   ]
  },
  {
   "cell_type": "code",
   "execution_count": 22,
   "id": "patient-burden",
   "metadata": {},
   "outputs": [
    {
     "data": {
      "text/html": [
       "<div>\n",
       "<style scoped>\n",
       "    .dataframe tbody tr th:only-of-type {\n",
       "        vertical-align: middle;\n",
       "    }\n",
       "\n",
       "    .dataframe tbody tr th {\n",
       "        vertical-align: top;\n",
       "    }\n",
       "\n",
       "    .dataframe thead th {\n",
       "        text-align: right;\n",
       "    }\n",
       "</style>\n",
       "<table border=\"1\" class=\"dataframe\">\n",
       "  <thead>\n",
       "    <tr style=\"text-align: right;\">\n",
       "      <th></th>\n",
       "      <th>Year</th>\n",
       "      <th>CO_Mean_ppb</th>\n",
       "    </tr>\n",
       "  </thead>\n",
       "  <tbody>\n",
       "    <tr>\n",
       "      <th>0</th>\n",
       "      <td>2000</td>\n",
       "      <td>557.789011</td>\n",
       "    </tr>\n",
       "    <tr>\n",
       "      <th>1</th>\n",
       "      <td>2001</td>\n",
       "      <td>509.118606</td>\n",
       "    </tr>\n",
       "    <tr>\n",
       "      <th>2</th>\n",
       "      <td>2002</td>\n",
       "      <td>500.990409</td>\n",
       "    </tr>\n",
       "    <tr>\n",
       "      <th>3</th>\n",
       "      <td>2003</td>\n",
       "      <td>492.719617</td>\n",
       "    </tr>\n",
       "    <tr>\n",
       "      <th>4</th>\n",
       "      <td>2004</td>\n",
       "      <td>448.131710</td>\n",
       "    </tr>\n",
       "  </tbody>\n",
       "</table>\n",
       "</div>"
      ],
      "text/plain": [
       "   Year  CO_Mean_ppb\n",
       "0  2000   557.789011\n",
       "1  2001   509.118606\n",
       "2  2002   500.990409\n",
       "3  2003   492.719617\n",
       "4  2004   448.131710"
      ]
     },
     "execution_count": 22,
     "metadata": {},
     "output_type": "execute_result"
    }
   ],
   "source": [
    "# NO2 \n",
    "year_vs_NO2_mean_df = data.groupby('Year').NO2_Mean.mean().reset_index()\n",
    "# 03 \n",
    "year_vs_O3_mean_df = data.groupby('Year').O3_Mean_ppb.mean().reset_index()\n",
    "# SO2\n",
    "year_vs_SO2_mean_df = data.groupby('Year').SO2_Mean.mean().reset_index()\n",
    "# C0 \n",
    "year_vs_CO_mean_df = data.groupby('Year').CO_Mean_ppb.mean().reset_index()\n",
    "year_vs_CO_mean_df.head()"
   ]
  },
  {
   "cell_type": "markdown",
   "id": "trained-manner",
   "metadata": {},
   "source": [
    "Now that I have the data in an easy to work with form, I'm going to plot all of them as line graphs."
   ]
  },
  {
   "cell_type": "code",
   "execution_count": 23,
   "id": "posted-climate",
   "metadata": {},
   "outputs": [
    {
     "data": {
      "image/png": "[encoded data removed]",
      "text/plain": [
       "<Figure size 648x432 with 1 Axes>"
      ]
     },
     "metadata": {
      "needs_background": "light"
     },
     "output_type": "display_data"
    }
   ],
   "source": [
    "plt.figure(figsize=(9,6))\n",
    "plt.title('Mean For Pollutants Across the United States (2000-2016)', fontsize=15)\n",
    "plt.ylabel(\"Mean NO2 (pbb)\")\n",
    "sns.lineplot(x=year_vs_NO2_mean_df.Year, y=year_vs_NO2_mean_df.NO2_Mean, ci = None)\n",
    "plt.legend(['NO2'])\n",
    "plt.show()"
   ]
  },
  {
   "cell_type": "markdown",
   "id": "wired-portuguese",
   "metadata": {},
   "source": [
    "The mean concentration of NO2 seems to decline as time passes until 2015, where it is slowly starting to increase again. "
   ]
  },
  {
   "cell_type": "code",
   "execution_count": 24,
   "id": "spiritual-catalyst",
   "metadata": {},
   "outputs": [
    {
     "data": {
      "image/png": "[encoded data removed]",
      "text/plain": [
       "<Figure size 648x432 with 1 Axes>"
      ]
     },
     "metadata": {
      "needs_background": "light"
     },
     "output_type": "display_data"
    }
   ],
   "source": [
    "plt.figure(figsize=(9,6))\n",
    "plt.title('Mean For Pollutants Across the United States (2000-2016)', fontsize=15)\n",
    "plt.ylabel(\"Mean O3 (ppb)\")\n",
    "sns.lineplot(x=year_vs_O3_mean_df.Year, y=year_vs_O3_mean_df.O3_Mean_ppb, ci = None, color='red')\n",
    "plt.legend(['O3'])\n",
    "plt.show()"
   ]
  },
  {
   "cell_type": "markdown",
   "id": "arbitrary-external",
   "metadata": {},
   "source": [
    "The mean concentration of ozone is a bit sporadic. The graph is not very consistent or linear. It increases from 2000 to 2002, but then it makes a decline until 2004, where it starts to increase until 2007. After 2007, there is a decline until 2009, where there is an increase until 2012. Starting from 2012, there is a decrease until 2014. Then an increase to 2015 and then back to a decrease around 2016. However, if there were not lines connected the points (i.e. if this was a scatter plot), you would notice a general increasing trend of the mean concentration of O3. "
   ]
  },
  {
   "cell_type": "code",
   "execution_count": 25,
   "id": "bridal-alabama",
   "metadata": {},
   "outputs": [
    {
     "data": {
      "image/png": "[encoded data removed]",
      "text/plain": [
       "<Figure size 648x432 with 1 Axes>"
      ]
     },
     "metadata": {
      "needs_background": "light"
     },
     "output_type": "display_data"
    }
   ],
   "source": [
    "plt.figure(figsize=(9,6))\n",
    "plt.title('Mean For Pollutants Across the United States (2000-2016)', fontsize=15)\n",
    "plt.ylabel(\"Mean SO2 (ppb)s\")\n",
    "sns.lineplot(x=year_vs_SO2_mean_df.Year, y=year_vs_SO2_mean_df.SO2_Mean, ci = None, color='green')\n",
    "plt.legend(['SO2'])\n",
    "plt.show()"
   ]
  },
  {
   "cell_type": "markdown",
   "id": "modern-playback",
   "metadata": {},
   "source": [
    "Back to a more normal looking graph, the mean concentration of SO2 is generally going down. "
   ]
  },
  {
   "cell_type": "code",
   "execution_count": 26,
   "id": "generous-punch",
   "metadata": {},
   "outputs": [
    {
     "data": {
      "image/png": "[encoded data removed]",
      "text/plain": [
       "<Figure size 648x432 with 1 Axes>"
      ]
     },
     "metadata": {
      "needs_background": "light"
     },
     "output_type": "display_data"
    }
   ],
   "source": [
    "plt.figure(figsize=(9,6))\n",
    "plt.title('Mean For Pollutants Across the United States (2000-2016)', fontsize=15)\n",
    "plt.ylabel(\"Mean CO (ppb)\")\n",
    "sns.lineplot(x=year_vs_CO_mean_df.Year, y=year_vs_CO_mean_df.CO_Mean_ppb, ci = None, color='orange')\n",
    "plt.legend(['CO'])\n",
    "plt.show()"
   ]
  },
  {
   "cell_type": "markdown",
   "id": "formal-finder",
   "metadata": {},
   "source": [
    "Similar to the mean concentration of SO2 and NO2, the mean concentration of CO is going down. However, around 2014, there seems to be the start of an increase."
   ]
  },
  {
   "cell_type": "markdown",
   "id": "going-harvey",
   "metadata": {},
   "source": [
    "Apart from O3, the other three pollutants generally had a decrease in mean concentration until around the later years (2014 onwards), where there seems to be the start of an increase. "
   ]
  },
  {
   "cell_type": "markdown",
   "id": "mysterious-programming",
   "metadata": {},
   "source": [
    "### Histogram: Distribution of Max 1st Hour"
   ]
  },
  {
   "cell_type": "markdown",
   "id": "obvious-prague",
   "metadata": {},
   "source": [
    "Next, I want to see the pattern for time of day and the collection of the max concentration of the pollutant."
   ]
  },
  {
   "cell_type": "code",
   "execution_count": 27,
   "id": "trained-detection",
   "metadata": {},
   "outputs": [
    {
     "data": {
      "text/plain": [
       "<AxesSubplot:xlabel='NO2_1st_Max_Hour', ylabel='Count'>"
      ]
     },
     "execution_count": 27,
     "metadata": {},
     "output_type": "execute_result"
    },
    {
     "data": {
      "image/png": "[encoded data removed]",
      "text/plain": [
       "<Figure size 432x288 with 1 Axes>"
      ]
     },
     "metadata": {
      "needs_background": "light"
     },
     "output_type": "display_data"
    }
   ],
   "source": [
    "sns.histplot(data=data, x='NO2_1st_Max_Hour')"
   ]
  },
  {
   "cell_type": "markdown",
   "id": "necessary-glasgow",
   "metadata": {},
   "source": [
    "The max value for NO2 does not seem to have a definite pattern. It seems like the max value can be from the start of the day (hour 0) or early morning (hour 5 to 8) and sometimes night-late night (hour 18-24). "
   ]
  },
  {
   "cell_type": "code",
   "execution_count": 28,
   "id": "second-trouble",
   "metadata": {},
   "outputs": [
    {
     "data": {
      "text/plain": [
       "<AxesSubplot:xlabel='O3_1st_Max_Hour', ylabel='Count'>"
      ]
     },
     "execution_count": 28,
     "metadata": {},
     "output_type": "execute_result"
    },
    {
     "data": {
      "image/png": "[encoded data removed]",
      "text/plain": [
       "<Figure size 432x288 with 1 Axes>"
      ]
     },
     "metadata": {
      "needs_background": "light"
     },
     "output_type": "display_data"
    }
   ],
   "source": [
    "sns.histplot(data=data, x='O3_1st_Max_Hour', color='red')"
   ]
  },
  {
   "cell_type": "markdown",
   "id": "mathematical-spouse",
   "metadata": {},
   "source": [
    "The max value seems to be always collected around 10 AM to midday. "
   ]
  },
  {
   "cell_type": "code",
   "execution_count": 29,
   "id": "apparent-twist",
   "metadata": {},
   "outputs": [
    {
     "data": {
      "text/plain": [
       "<AxesSubplot:xlabel='SO2_1st_Max_Hour', ylabel='Count'>"
      ]
     },
     "execution_count": 29,
     "metadata": {},
     "output_type": "execute_result"
    },
    {
     "data": {
      "image/png": "[encoded data removed]",
      "text/plain": [
       "<Figure size 432x288 with 1 Axes>"
      ]
     },
     "metadata": {
      "needs_background": "light"
     },
     "output_type": "display_data"
    }
   ],
   "source": [
    "sns.histplot(data=data, x='SO2_1st_Max_Hour', color='green')"
   ]
  },
  {
   "cell_type": "markdown",
   "id": "accepted-stockholm",
   "metadata": {},
   "source": [
    "The max value is generally associated right when the new day begins. It also is quite frequent that the max value is in the morning (5-10)."
   ]
  },
  {
   "cell_type": "code",
   "execution_count": 30,
   "id": "neural-tuesday",
   "metadata": {},
   "outputs": [
    {
     "data": {
      "text/plain": [
       "<AxesSubplot:xlabel='CO_1st_Max_Hour', ylabel='Count'>"
      ]
     },
     "execution_count": 30,
     "metadata": {},
     "output_type": "execute_result"
    },
    {
     "data": {
      "image/png": "[encoded data removed]",
      "text/plain": [
       "<Figure size 432x288 with 1 Axes>"
      ]
     },
     "metadata": {
      "needs_background": "light"
     },
     "output_type": "display_data"
    }
   ],
   "source": [
    "sns.histplot(data=data, x='CO_1st_Max_Hour', color='orange')"
   ]
  },
  {
   "cell_type": "markdown",
   "id": "involved-huntington",
   "metadata": {},
   "source": [
    "The max value seems to always be at the start of the day. "
   ]
  },
  {
   "cell_type": "markdown",
   "id": "floating-genome",
   "metadata": {},
   "source": [
    "It's interesting how the max value of each pollutant except ozone is collected at the start of the day. \n",
    "\n",
    "Even though the dataset does not include factors that contribute to each pollutant, some research from the EPA can offer some explanation. NO2, SO2 and CO all result from the burning of fossil fuels, so cars, powerplants, heaters can all release these chemicals. Ozone is created when certain pollutants react with sunlight. Knowing that, the max value of ozone being collected is around hour 10 makes sense because that is when the sun is out. \n",
    "\n",
    "For more information about the pollutants and how they are formed, check out these resources: \n",
    "- https://www.epa.gov/no2-pollution/basic-information-about-no2#What%20is%20NO2\n",
    "- https://www.epa.gov/ground-level-ozone-pollution/ground-level-ozone-basics#formation\n",
    "- https://www.epa.gov/so2-pollution/sulfur-dioxide-basics#what%20is%20so2\n",
    "- https://www.epa.gov/co-pollution/basic-information-about-carbon-monoxide-co-outdoor-air-pollution#What%20is%20CO"
   ]
  },
  {
   "cell_type": "markdown",
   "id": "informational-doctrine",
   "metadata": {},
   "source": [
    "### Bar Graph: States vs AQI"
   ]
  },
  {
   "cell_type": "markdown",
   "id": "homeless-looking",
   "metadata": {},
   "source": [
    "My last analysis will be on states and the pollutants. "
   ]
  },
  {
   "cell_type": "markdown",
   "id": "spare-print",
   "metadata": {},
   "source": [
    "Here, I am going to group the data by the state and compare the states with each pollutants mean AQI."
   ]
  },
  {
   "cell_type": "code",
   "execution_count": 31,
   "id": "sorted-drain",
   "metadata": {},
   "outputs": [
    {
     "data": {
      "text/html": [
       "<div>\n",
       "<style scoped>\n",
       "    .dataframe tbody tr th:only-of-type {\n",
       "        vertical-align: middle;\n",
       "    }\n",
       "\n",
       "    .dataframe tbody tr th {\n",
       "        vertical-align: top;\n",
       "    }\n",
       "\n",
       "    .dataframe thead th {\n",
       "        text-align: right;\n",
       "    }\n",
       "</style>\n",
       "<table border=\"1\" class=\"dataframe\">\n",
       "  <thead>\n",
       "    <tr style=\"text-align: right;\">\n",
       "      <th></th>\n",
       "      <th>State</th>\n",
       "      <th>NO2_AQI</th>\n",
       "    </tr>\n",
       "  </thead>\n",
       "  <tbody>\n",
       "    <tr>\n",
       "      <th>0</th>\n",
       "      <td>Alabama</td>\n",
       "      <td>21.228900</td>\n",
       "    </tr>\n",
       "    <tr>\n",
       "      <th>1</th>\n",
       "      <td>Alaska</td>\n",
       "      <td>19.580972</td>\n",
       "    </tr>\n",
       "    <tr>\n",
       "      <th>2</th>\n",
       "      <td>Arizona</td>\n",
       "      <td>36.106818</td>\n",
       "    </tr>\n",
       "    <tr>\n",
       "      <th>3</th>\n",
       "      <td>Arkansas</td>\n",
       "      <td>21.487772</td>\n",
       "    </tr>\n",
       "    <tr>\n",
       "      <th>4</th>\n",
       "      <td>California</td>\n",
       "      <td>24.114337</td>\n",
       "    </tr>\n",
       "  </tbody>\n",
       "</table>\n",
       "</div>"
      ],
      "text/plain": [
       "        State    NO2_AQI\n",
       "0     Alabama  21.228900\n",
       "1      Alaska  19.580972\n",
       "2     Arizona  36.106818\n",
       "3    Arkansas  21.487772\n",
       "4  California  24.114337"
      ]
     },
     "execution_count": 31,
     "metadata": {},
     "output_type": "execute_result"
    }
   ],
   "source": [
    "# First grouping by states for NO2\n",
    "states_vs_aqi_df = data.groupby('State').NO2_AQI.mean().reset_index()\n",
    "states_vs_aqi_df.head()"
   ]
  },
  {
   "cell_type": "code",
   "execution_count": 32,
   "id": "injured-binding",
   "metadata": {},
   "outputs": [
    {
     "data": {
      "text/html": [
       "<div>\n",
       "<style scoped>\n",
       "    .dataframe tbody tr th:only-of-type {\n",
       "        vertical-align: middle;\n",
       "    }\n",
       "\n",
       "    .dataframe tbody tr th {\n",
       "        vertical-align: top;\n",
       "    }\n",
       "\n",
       "    .dataframe thead th {\n",
       "        text-align: right;\n",
       "    }\n",
       "</style>\n",
       "<table border=\"1\" class=\"dataframe\">\n",
       "  <thead>\n",
       "    <tr style=\"text-align: right;\">\n",
       "      <th></th>\n",
       "      <th>State</th>\n",
       "      <th>NO2_AQI</th>\n",
       "      <th>CO_AQI</th>\n",
       "      <th>SO2_AQI</th>\n",
       "      <th>O3_AQI</th>\n",
       "    </tr>\n",
       "  </thead>\n",
       "  <tbody>\n",
       "    <tr>\n",
       "      <th>0</th>\n",
       "      <td>Alabama</td>\n",
       "      <td>21.228900</td>\n",
       "      <td>3.851662</td>\n",
       "      <td>7.005115</td>\n",
       "      <td>36.831202</td>\n",
       "    </tr>\n",
       "    <tr>\n",
       "      <th>1</th>\n",
       "      <td>Alaska</td>\n",
       "      <td>19.580972</td>\n",
       "      <td>6.528340</td>\n",
       "      <td>14.506073</td>\n",
       "      <td>17.712551</td>\n",
       "    </tr>\n",
       "    <tr>\n",
       "      <th>2</th>\n",
       "      <td>Arizona</td>\n",
       "      <td>36.106818</td>\n",
       "      <td>9.190681</td>\n",
       "      <td>4.212319</td>\n",
       "      <td>39.004980</td>\n",
       "    </tr>\n",
       "    <tr>\n",
       "      <th>3</th>\n",
       "      <td>Arkansas</td>\n",
       "      <td>21.487772</td>\n",
       "      <td>5.929914</td>\n",
       "      <td>2.975883</td>\n",
       "      <td>35.035213</td>\n",
       "    </tr>\n",
       "    <tr>\n",
       "      <th>4</th>\n",
       "      <td>California</td>\n",
       "      <td>24.114337</td>\n",
       "      <td>7.405755</td>\n",
       "      <td>3.598922</td>\n",
       "      <td>35.721988</td>\n",
       "    </tr>\n",
       "  </tbody>\n",
       "</table>\n",
       "</div>"
      ],
      "text/plain": [
       "        State    NO2_AQI    CO_AQI    SO2_AQI     O3_AQI\n",
       "0     Alabama  21.228900  3.851662   7.005115  36.831202\n",
       "1      Alaska  19.580972  6.528340  14.506073  17.712551\n",
       "2     Arizona  36.106818  9.190681   4.212319  39.004980\n",
       "3    Arkansas  21.487772  5.929914   2.975883  35.035213\n",
       "4  California  24.114337  7.405755   3.598922  35.721988"
      ]
     },
     "execution_count": 32,
     "metadata": {},
     "output_type": "execute_result"
    }
   ],
   "source": [
    "# Grouping by states for the rest of the pollutants and then adding the AQI column of each individual dataframe\n",
    "# as a column to one dataframe \n",
    "states_vs_aqi_df['CO_AQI'] = data.groupby('State').CO_AQI.mean().reset_index()['CO_AQI']\n",
    "states_vs_aqi_df['SO2_AQI'] = data.groupby('State').SO2_AQI.mean().reset_index()['SO2_AQI']\n",
    "states_vs_aqi_df['O3_AQI'] = data.groupby('State').O3_AQI.mean().reset_index()['O3_AQI']\n",
    "states_vs_aqi_df.head()"
   ]
  },
  {
   "cell_type": "markdown",
   "id": "capital-amateur",
   "metadata": {},
   "source": [
    "I now have one dataframe that contains the mean AQI for the four pollutants, grouped by states. "
   ]
  },
  {
   "cell_type": "markdown",
   "id": "guided-convenience",
   "metadata": {},
   "source": [
    "In order to graph this, I need to tidy this dataframe a bit. I need to unpivot my data and to do that, I'll use pandas melt(). "
   ]
  },
  {
   "cell_type": "code",
   "execution_count": 33,
   "id": "stupid-jaguar",
   "metadata": {},
   "outputs": [
    {
     "data": {
      "text/html": [
       "<div>\n",
       "<style scoped>\n",
       "    .dataframe tbody tr th:only-of-type {\n",
       "        vertical-align: middle;\n",
       "    }\n",
       "\n",
       "    .dataframe tbody tr th {\n",
       "        vertical-align: top;\n",
       "    }\n",
       "\n",
       "    .dataframe thead th {\n",
       "        text-align: right;\n",
       "    }\n",
       "</style>\n",
       "<table border=\"1\" class=\"dataframe\">\n",
       "  <thead>\n",
       "    <tr style=\"text-align: right;\">\n",
       "      <th></th>\n",
       "      <th>State</th>\n",
       "      <th>Pollutant</th>\n",
       "      <th>Mean_AQI</th>\n",
       "    </tr>\n",
       "  </thead>\n",
       "  <tbody>\n",
       "    <tr>\n",
       "      <th>0</th>\n",
       "      <td>Alabama</td>\n",
       "      <td>NO2_AQI</td>\n",
       "      <td>21.228900</td>\n",
       "    </tr>\n",
       "    <tr>\n",
       "      <th>1</th>\n",
       "      <td>Alaska</td>\n",
       "      <td>NO2_AQI</td>\n",
       "      <td>19.580972</td>\n",
       "    </tr>\n",
       "    <tr>\n",
       "      <th>2</th>\n",
       "      <td>Arizona</td>\n",
       "      <td>NO2_AQI</td>\n",
       "      <td>36.106818</td>\n",
       "    </tr>\n",
       "    <tr>\n",
       "      <th>3</th>\n",
       "      <td>Arkansas</td>\n",
       "      <td>NO2_AQI</td>\n",
       "      <td>21.487772</td>\n",
       "    </tr>\n",
       "    <tr>\n",
       "      <th>4</th>\n",
       "      <td>California</td>\n",
       "      <td>NO2_AQI</td>\n",
       "      <td>24.114337</td>\n",
       "    </tr>\n",
       "  </tbody>\n",
       "</table>\n",
       "</div>"
      ],
      "text/plain": [
       "        State Pollutant   Mean_AQI\n",
       "0     Alabama   NO2_AQI  21.228900\n",
       "1      Alaska   NO2_AQI  19.580972\n",
       "2     Arizona   NO2_AQI  36.106818\n",
       "3    Arkansas   NO2_AQI  21.487772\n",
       "4  California   NO2_AQI  24.114337"
      ]
     },
     "execution_count": 33,
     "metadata": {},
     "output_type": "execute_result"
    }
   ],
   "source": [
    "tidy_df = pd.melt(states_vs_aqi_df, id_vars=\"State\", var_name=\"Pollutant\", value_name=\"Mean_AQI\")\n",
    "tidy_df.head()"
   ]
  },
  {
   "cell_type": "markdown",
   "id": "detailed-pastor",
   "metadata": {},
   "source": [
    "Now I have a tidy dataframe that I can plot with. I'm going to make a bar graph to analyze the relationship between states and pollutants."
   ]
  },
  {
   "cell_type": "code",
   "execution_count": 34,
   "id": "balanced-springer",
   "metadata": {},
   "outputs": [
    {
     "data": {
      "text/plain": [
       "<AxesSubplot:xlabel='Mean_AQI', ylabel='State'>"
      ]
     },
     "execution_count": 34,
     "metadata": {},
     "output_type": "execute_result"
    },
    {
     "data": {
      "image/png": "[encoded data removed]",
      "text/plain": [
       "<Figure size 576x2880 with 1 Axes>"
      ]
     },
     "metadata": {
      "needs_background": "light"
     },
     "output_type": "display_data"
    }
   ],
   "source": [
    "plt.figure(figsize=(8,40))\n",
    "sns.barplot(x='Mean_AQI', y='State', hue='Pollutant', data=tidy_df)"
   ]
  },
  {
   "cell_type": "markdown",
   "id": "graduate-platform",
   "metadata": {},
   "source": [
    "We can see that Ozone's mean AQI is pretty much the greatest one (with a few exceptions like Colorado where NO2 is slightly greater). NO2 and O3 seem to be the pollutants with the greatest AQI for each state while CO and SO2 have a lesser AQI. "
   ]
  },
  {
   "cell_type": "markdown",
   "id": "silent-mercury",
   "metadata": {},
   "source": [
    "Some notable states include Tennesse, Wyoming, New York and California. It is shocking that more urban and populated states like New York and California have a more even distribution of pollutant AQI while Tennessee and Wyoming have pretty low AQI for everything but Ozone, which is super large. "
   ]
  },
  {
   "cell_type": "markdown",
   "id": "animal-product",
   "metadata": {},
   "source": [
    "## Section 4: Hypothesis Testing and Machine Learning"
   ]
  },
  {
   "cell_type": "markdown",
   "id": "touched-shoot",
   "metadata": {},
   "source": [
    "Before I get into the major hypothesis testing, I want to fit a linear regression model to time vs O3 AQI to see if there is a relationship (beyond what the graphs from above tell us). "
   ]
  },
  {
   "cell_type": "code",
   "execution_count": 35,
   "id": "temporal-circle",
   "metadata": {},
   "outputs": [
    {
     "data": {
      "text/html": [
       "<div>\n",
       "<style scoped>\n",
       "    .dataframe tbody tr th:only-of-type {\n",
       "        vertical-align: middle;\n",
       "    }\n",
       "\n",
       "    .dataframe tbody tr th {\n",
       "        vertical-align: top;\n",
       "    }\n",
       "\n",
       "    .dataframe thead th {\n",
       "        text-align: right;\n",
       "    }\n",
       "</style>\n",
       "<table border=\"1\" class=\"dataframe\">\n",
       "  <thead>\n",
       "    <tr style=\"text-align: right;\">\n",
       "      <th></th>\n",
       "      <th>Year</th>\n",
       "      <th>O3_AQI</th>\n",
       "    </tr>\n",
       "  </thead>\n",
       "  <tbody>\n",
       "    <tr>\n",
       "      <th>0</th>\n",
       "      <td>2000</td>\n",
       "      <td>[34, 27, 14, 28, 10, 21, 20, 17, 19, 13, 14, 1...</td>\n",
       "    </tr>\n",
       "    <tr>\n",
       "      <th>1</th>\n",
       "      <td>2001</td>\n",
       "      <td>[14, 11, 26, 24, 8, 10, 19, 18, 13, 14, 24, 22...</td>\n",
       "    </tr>\n",
       "    <tr>\n",
       "      <th>2</th>\n",
       "      <td>2002</td>\n",
       "      <td>[18, 19, 19, 16, 19, 11, 4, 7, 5, 10, 25, 18, ...</td>\n",
       "    </tr>\n",
       "    <tr>\n",
       "      <th>3</th>\n",
       "      <td>2003</td>\n",
       "      <td>[19, 25, 19, 14, 14, 21, 28, 8, 13, 9, 19, 18,...</td>\n",
       "    </tr>\n",
       "    <tr>\n",
       "      <th>4</th>\n",
       "      <td>2004</td>\n",
       "      <td>[21, 20, 25, 21, 8, 12, 3, 5, 13, 26, 22, 20, ...</td>\n",
       "    </tr>\n",
       "  </tbody>\n",
       "</table>\n",
       "</div>"
      ],
      "text/plain": [
       "   Year                                             O3_AQI\n",
       "0  2000  [34, 27, 14, 28, 10, 21, 20, 17, 19, 13, 14, 1...\n",
       "1  2001  [14, 11, 26, 24, 8, 10, 19, 18, 13, 14, 24, 22...\n",
       "2  2002  [18, 19, 19, 16, 19, 11, 4, 7, 5, 10, 25, 18, ...\n",
       "3  2003  [19, 25, 19, 14, 14, 21, 28, 8, 13, 9, 19, 18,...\n",
       "4  2004  [21, 20, 25, 21, 8, 12, 3, 5, 13, 26, 22, 20, ..."
      ]
     },
     "execution_count": 35,
     "metadata": {},
     "output_type": "execute_result"
    }
   ],
   "source": [
    "# Extracting AQI By Year for O3\n",
    "year_vs_O3_AQI_df = data.groupby('Year').O3_AQI.apply(list).reset_index()\n",
    "year_vs_O3_AQI_df.head()"
   ]
  },
  {
   "cell_type": "code",
   "execution_count": 36,
   "id": "systematic-study",
   "metadata": {},
   "outputs": [
    {
     "data": {
      "text/plain": [
       "array([[2000],\n",
       "       [2001],\n",
       "       [2002],\n",
       "       [2003],\n",
       "       [2004],\n",
       "       [2005],\n",
       "       [2006],\n",
       "       [2007],\n",
       "       [2008],\n",
       "       [2009],\n",
       "       [2010],\n",
       "       [2011],\n",
       "       [2012],\n",
       "       [2013],\n",
       "       [2014],\n",
       "       [2015],\n",
       "       [2016]])"
      ]
     },
     "execution_count": 36,
     "metadata": {},
     "output_type": "execute_result"
    }
   ],
   "source": [
    "# Extracting the information from the dataframe \n",
    "values = year_vs_O3_AQI_df.values.tolist()\n",
    "years = [int(year[0]) for year in values]\n",
    "# Converting the years into a 2d array so I can use Sklearn's model \n",
    "year = np.array([[y] for y in years]) \n",
    "year"
   ]
  },
  {
   "cell_type": "code",
   "execution_count": 37,
   "id": "unknown-armor",
   "metadata": {},
   "outputs": [],
   "source": [
    "# Extracting the O3_AQI from the dataframe\n",
    "O3_AQI_per_year = [aqi[1] for aqi in values]"
   ]
  },
  {
   "cell_type": "markdown",
   "id": "intellectual-value",
   "metadata": {},
   "source": [
    "In order to use sklearn's linear model, I need to make sure that all the data is the same size.\n",
    "\n",
    "Spoiler alert: it's not. \n",
    "\n",
    "The AQI for each year is not the same size. So I need to handle this case and make them all the same size."
   ]
  },
  {
   "cell_type": "code",
   "execution_count": 38,
   "id": "reverse-breakdown",
   "metadata": {},
   "outputs": [
    {
     "name": "stdout",
     "output_type": "stream",
     "text": [
      "Max: 33660\n"
     ]
    }
   ],
   "source": [
    "# Figuring out which list has the greatest amount of entries\n",
    "max_list_length = 0\n",
    "for sub_list in O3_AQI_per_year:\n",
    "    #print(len(sub_list))\n",
    "    if (len(sub_list)) > max_list_length:\n",
    "        max_list_length = len(sub_list)\n",
    "        \n",
    "print(\"Max:\", max_list_length)"
   ]
  },
  {
   "cell_type": "code",
   "execution_count": 39,
   "id": "infectious-matter",
   "metadata": {},
   "outputs": [],
   "source": [
    "# Padding the arrays with the mean (imputation)\n",
    "imputated_O3_AQI_per_year = []\n",
    "for sub_list in O3_AQI_per_year:\n",
    "    if (len(sub_list)) < max_list_length: \n",
    "        new_list = np.pad(sub_list, (0, max_list_length - len(sub_list)), 'mean')\n",
    "        imputated_O3_AQI_per_year.append(new_list)\n",
    "    else: \n",
    "        imputated_O3_AQI_per_year.append(sub_list)"
   ]
  },
  {
   "cell_type": "markdown",
   "id": "meaning-conflict",
   "metadata": {},
   "source": [
    "The method I used was mean single imputation. I padded the arrays with the mean for that set. This can introduce bias and does not deal with noise well. There are other methods you can use to impute the data (the resources linked above for handling missing values).\n",
    "\n",
    "Now that the data is the same size, I can fit a linear model for O3. "
   ]
  },
  {
   "cell_type": "code",
   "execution_count": 40,
   "id": "attractive-linux",
   "metadata": {},
   "outputs": [],
   "source": [
    "reg = linear_model.LinearRegression()"
   ]
  },
  {
   "cell_type": "code",
   "execution_count": 41,
   "id": "likely-referral",
   "metadata": {},
   "outputs": [
    {
     "data": {
      "text/plain": [
       "LinearRegression()"
      ]
     },
     "execution_count": 41,
     "metadata": {},
     "output_type": "execute_result"
    }
   ],
   "source": [
    "# Fitting the data \n",
    "reg.fit(year, imputated_O3_AQI_per_year)"
   ]
  },
  {
   "cell_type": "code",
   "execution_count": 42,
   "id": "requested-beads",
   "metadata": {},
   "outputs": [
    {
     "name": "stdout",
     "output_type": "stream",
     "text": [
      "-0.12429973029021478 285.60918294828326\n"
     ]
    }
   ],
   "source": [
    "# Taking the average of the coefficient and intercept so I can write a formula\n",
    "m = np.average(reg.coef_)\n",
    "b = np.average(reg.intercept_)\n",
    "\n",
    "print(m, b)"
   ]
  },
  {
   "cell_type": "markdown",
   "id": "organized-locator",
   "metadata": {},
   "source": [
    "The linear regression line formula is y = -0.124x + 285.609.\n",
    "\n",
    "This means that O3 AQI is decreasing around .124 each year. "
   ]
  },
  {
   "cell_type": "markdown",
   "id": "enormous-turkey",
   "metadata": {},
   "source": [
    "We can use this model to predict what the mean ozone AQI will be in the future. "
   ]
  },
  {
   "cell_type": "code",
   "execution_count": 43,
   "id": "forward-theory",
   "metadata": {},
   "outputs": [
    {
     "data": {
      "text/plain": [
       "34.27512830146913"
      ]
     },
     "execution_count": 43,
     "metadata": {},
     "output_type": "execute_result"
    }
   ],
   "source": [
    "np.mean(reg.predict([[2022]]))"
   ]
  },
  {
   "cell_type": "markdown",
   "id": "fatty-meditation",
   "metadata": {},
   "source": [
    "This model predicts that the mean ozone AQI for next year will be around 34. \n",
    "\n",
    "We can also see what it will be 31 years from now. "
   ]
  },
  {
   "cell_type": "code",
   "execution_count": 44,
   "id": "charming-portsmouth",
   "metadata": {},
   "outputs": [
    {
     "data": {
      "text/plain": [
       "30.54613639276269"
      ]
     },
     "execution_count": 44,
     "metadata": {},
     "output_type": "execute_result"
    }
   ],
   "source": [
    "np.mean(reg.predict([[2052]]))"
   ]
  },
  {
   "cell_type": "markdown",
   "id": "structural-machinery",
   "metadata": {},
   "source": [
    "Now that I've done this, I'm going to use this method (linear regression) for hypothesis testing. "
   ]
  },
  {
   "cell_type": "markdown",
   "id": "retired-convert",
   "metadata": {},
   "source": [
    "### Hypothesis testing"
   ]
  },
  {
   "cell_type": "markdown",
   "id": "instructional-justice",
   "metadata": {},
   "source": [
    "In section 3, we first looked at years vs AQI. Based off the graph, I made the assumption that there is a relationship between AQI and time. \n",
    "\n",
    "However, to formally reject a null hypothesis of no relationship between time and AQI, I can use a linear regression model to test the relationship."
   ]
  },
  {
   "cell_type": "markdown",
   "id": "personal-zealand",
   "metadata": {},
   "source": [
    "Using the statsmodel library, I don't need to impute the data to do the regression models. "
   ]
  },
  {
   "cell_type": "code",
   "execution_count": 45,
   "id": "obvious-deviation",
   "metadata": {},
   "outputs": [
    {
     "name": "stdout",
     "output_type": "stream",
     "text": [
      "                            OLS Regression Results                            \n",
      "==============================================================================\n",
      "Dep. Variable:                NO2_AQI   R-squared:                       0.071\n",
      "Model:                            OLS   Adj. R-squared:                  0.071\n",
      "Method:                 Least Squares   F-statistic:                 3.319e+04\n",
      "Date:                Fri, 10 Dec 2021   Prob (F-statistic):               0.00\n",
      "Time:                        16:29:41   Log-Likelihood:            -1.7917e+06\n",
      "No. Observations:              436876   AIC:                         3.583e+06\n",
      "Df Residuals:                  436874   BIC:                         3.583e+06\n",
      "Df Model:                           1                                         \n",
      "Covariance Type:            nonrobust                                         \n",
      "==============================================================================\n",
      "                 coef    std err          t      P>|t|      [0.025      0.975]\n",
      "------------------------------------------------------------------------------\n",
      "const       1762.9637      9.545    184.698      0.000    1744.256    1781.672\n",
      "Year          -0.8659      0.005   -182.195      0.000      -0.875      -0.857\n",
      "==============================================================================\n",
      "Omnibus:                    50916.941   Durbin-Watson:                   0.500\n",
      "Prob(Omnibus):                  0.000   Jarque-Bera (JB):            83486.718\n",
      "Skew:                           0.821   Prob(JB):                         0.00\n",
      "Kurtosis:                       4.376   Cond. No.                     8.67e+05\n",
      "==============================================================================\n",
      "\n",
      "Notes:\n",
      "[1] Standard Errors assume that the covariance matrix of the errors is correctly specified.\n",
      "[2] The condition number is large, 8.67e+05. This might indicate that there are\n",
      "strong multicollinearity or other numerical problems.\n"
     ]
    }
   ],
   "source": [
    "X1 = data['Year'] # Setting year as X value \n",
    "y1 = data['NO2_AQI'] # Setting the AQI as the y value \n",
    "X1 = sm.add_constant(X1) # Adding a constant of 1 to the data \n",
    "est1 = sm.OLS(y1, X1.astype(float)) # Creating the regression model\n",
    "est1_v2 = est1.fit() # Fitting it \n",
    "print(est1_v2.summary()) # Printing the summary "
   ]
  },
  {
   "cell_type": "code",
   "execution_count": 46,
   "id": "automatic-kennedy",
   "metadata": {},
   "outputs": [
    {
     "name": "stdout",
     "output_type": "stream",
     "text": [
      "0.0\n"
     ]
    }
   ],
   "source": [
    "print(est1_v2.f_pvalue)"
   ]
  },
  {
   "cell_type": "markdown",
   "id": "modern-valentine",
   "metadata": {},
   "source": [
    "Looking at the p-value for this model, we see that it is very small (0) so we can say that the data is statistically significant. In other words, we can reject the null hypothesis of no relationship for time vs NO2 AQI. We can also see that NO2 AQI decreases by 0.8659 each year. \n",
    "\n",
    "We need to repeat this process for the other 3 pollutants as well."
   ]
  },
  {
   "cell_type": "code",
   "execution_count": 47,
   "id": "spanish-metabolism",
   "metadata": {},
   "outputs": [
    {
     "name": "stdout",
     "output_type": "stream",
     "text": [
      "                            OLS Regression Results                            \n",
      "==============================================================================\n",
      "Dep. Variable:                SO2_AQI   R-squared:                       0.101\n",
      "Model:                            OLS   Adj. R-squared:                  0.101\n",
      "Method:                 Least Squares   F-statistic:                 4.926e+04\n",
      "Date:                Fri, 10 Dec 2021   Prob (F-statistic):               0.00\n",
      "Time:                        16:29:44   Log-Likelihood:            -1.6799e+06\n",
      "No. Observations:              436876   AIC:                         3.360e+06\n",
      "Df Residuals:                  436874   BIC:                         3.360e+06\n",
      "Df Model:                           1                                         \n",
      "Covariance Type:            nonrobust                                         \n",
      "==============================================================================\n",
      "                 coef    std err          t      P>|t|      [0.025      0.975]\n",
      "------------------------------------------------------------------------------\n",
      "const       1647.3597      7.390    222.912      0.000    1632.875    1661.844\n",
      "Year          -0.8167      0.004   -221.949      0.000      -0.824      -0.810\n",
      "==============================================================================\n",
      "Omnibus:                   362986.532   Durbin-Watson:                   0.978\n",
      "Prob(Omnibus):                  0.000   Jarque-Bera (JB):         11341532.932\n",
      "Skew:                           3.900   Prob(JB):                         0.00\n",
      "Kurtosis:                      26.711   Cond. No.                     8.67e+05\n",
      "==============================================================================\n",
      "\n",
      "Notes:\n",
      "[1] Standard Errors assume that the covariance matrix of the errors is correctly specified.\n",
      "[2] The condition number is large, 8.67e+05. This might indicate that there are\n",
      "strong multicollinearity or other numerical problems.\n"
     ]
    }
   ],
   "source": [
    "X2 = data['Year']\n",
    "y2 = data['SO2_AQI']\n",
    "X2 = sm.add_constant(X2)\n",
    "est2 = sm.OLS(y2, X2.astype(float))\n",
    "est2_v2 = est2.fit()\n",
    "print(est2_v2.summary())"
   ]
  },
  {
   "cell_type": "code",
   "execution_count": 48,
   "id": "upper-laugh",
   "metadata": {},
   "outputs": [
    {
     "name": "stdout",
     "output_type": "stream",
     "text": [
      "0.0\n"
     ]
    }
   ],
   "source": [
    "print(est2_v2.f_pvalue)"
   ]
  },
  {
   "cell_type": "markdown",
   "id": "stretch-activity",
   "metadata": {},
   "source": [
    "Once again the p-value is small, so we can reject the null hypothesis of no relationship for SO2. SO2 AQI also seems to decrease by 0.8167 each year. "
   ]
  },
  {
   "cell_type": "markdown",
   "id": "quarterly-roads",
   "metadata": {},
   "source": [
    "The next case we are looking at is O3. We did a regression model with sklearn's linear regression earlier. However, I'm going to repeat that case here using statsmodel to look at the p-value. \n",
    "\n",
    "There will be a slight difference in the regression equation here since I did not have to impute the data. "
   ]
  },
  {
   "cell_type": "code",
   "execution_count": 49,
   "id": "driving-norway",
   "metadata": {},
   "outputs": [
    {
     "name": "stdout",
     "output_type": "stream",
     "text": [
      "                            OLS Regression Results                            \n",
      "==============================================================================\n",
      "Dep. Variable:                 O3_AQI   R-squared:                       0.000\n",
      "Model:                            OLS   Adj. R-squared:                  0.000\n",
      "Method:                 Least Squares   F-statistic:                     173.5\n",
      "Date:                Fri, 10 Dec 2021   Prob (F-statistic):           1.32e-39\n",
      "Time:                        16:29:47   Log-Likelihood:            -1.9237e+06\n",
      "No. Observations:              436876   AIC:                         3.847e+06\n",
      "Df Residuals:                  436874   BIC:                         3.847e+06\n",
      "Df Model:                           1                                         \n",
      "Covariance Type:            nonrobust                                         \n",
      "==============================================================================\n",
      "                 coef    std err          t      P>|t|      [0.025      0.975]\n",
      "------------------------------------------------------------------------------\n",
      "const        206.1069     12.912     15.962      0.000     180.799     231.415\n",
      "Year          -0.0847      0.006    -13.170      0.000      -0.097      -0.072\n",
      "==============================================================================\n",
      "Omnibus:                   233464.566   Durbin-Watson:                   0.542\n",
      "Prob(Omnibus):                  0.000   Jarque-Bera (JB):          2142013.444\n",
      "Skew:                           2.427   Prob(JB):                         0.00\n",
      "Kurtosis:                      12.701   Cond. No.                     8.67e+05\n",
      "==============================================================================\n",
      "\n",
      "Notes:\n",
      "[1] Standard Errors assume that the covariance matrix of the errors is correctly specified.\n",
      "[2] The condition number is large, 8.67e+05. This might indicate that there are\n",
      "strong multicollinearity or other numerical problems.\n"
     ]
    }
   ],
   "source": [
    "X3 = data['Year']\n",
    "y3 = data['O3_AQI']\n",
    "X3 = sm.add_constant(X3)\n",
    "est3 = sm.OLS(y3, X3.astype(float))\n",
    "est3_v2 = est3.fit()\n",
    "print(est3_v2.summary())"
   ]
  },
  {
   "cell_type": "code",
   "execution_count": 50,
   "id": "liquid-conference",
   "metadata": {},
   "outputs": [
    {
     "name": "stdout",
     "output_type": "stream",
     "text": [
      "1.324539849889709e-39\n"
     ]
    }
   ],
   "source": [
    "print(est3_v2.f_pvalue)"
   ]
  },
  {
   "cell_type": "markdown",
   "id": "vital-header",
   "metadata": {},
   "source": [
    "This p-value is less that 0.05 so we can say that we reject the null hypothesis. \n",
    "\n",
    "We can use the const and year value from this model to predict what the O3 AQI will be in 2022 (like we did above). "
   ]
  },
  {
   "cell_type": "code",
   "execution_count": 51,
   "id": "searching-intro",
   "metadata": {},
   "outputs": [
    {
     "data": {
      "text/plain": [
       "34.843500000000006"
      ]
     },
     "execution_count": 51,
     "metadata": {},
     "output_type": "execute_result"
    }
   ],
   "source": [
    "(-0.0847*2022)+206.1069  "
   ]
  },
  {
   "cell_type": "markdown",
   "id": "thirty-ghana",
   "metadata": {},
   "source": [
    "This is the predicted value for 2022 and it's not too far off from the sklearn linear regression model.\n",
    "\n",
    "Finally, we can check CO. "
   ]
  },
  {
   "cell_type": "code",
   "execution_count": 52,
   "id": "satellite-values",
   "metadata": {},
   "outputs": [
    {
     "name": "stdout",
     "output_type": "stream",
     "text": [
      "                            OLS Regression Results                            \n",
      "==============================================================================\n",
      "Dep. Variable:                 CO_AQI   R-squared:                       0.079\n",
      "Model:                            OLS   Adj. R-squared:                  0.079\n",
      "Method:                 Least Squares   F-statistic:                 3.745e+04\n",
      "Date:                Fri, 10 Dec 2021   Prob (F-statistic):               0.00\n",
      "Time:                        16:29:55   Log-Likelihood:            -1.3738e+06\n",
      "No. Observations:              436876   AIC:                         2.748e+06\n",
      "Df Residuals:                  436874   BIC:                         2.748e+06\n",
      "Df Model:                           1                                         \n",
      "Covariance Type:            nonrobust                                         \n",
      "==============================================================================\n",
      "                 coef    std err          t      P>|t|      [0.025      0.975]\n",
      "------------------------------------------------------------------------------\n",
      "const        715.5959      3.667    195.152      0.000     708.409     722.783\n",
      "Year          -0.3533      0.002   -193.517      0.000      -0.357      -0.350\n",
      "==============================================================================\n",
      "Omnibus:                   360188.333   Durbin-Watson:                   0.429\n",
      "Prob(Omnibus):                  0.000   Jarque-Bera (JB):         22030065.637\n",
      "Skew:                           3.579   Prob(JB):                         0.00\n",
      "Kurtosis:                      37.044   Cond. No.                     8.67e+05\n",
      "==============================================================================\n",
      "\n",
      "Notes:\n",
      "[1] Standard Errors assume that the covariance matrix of the errors is correctly specified.\n",
      "[2] The condition number is large, 8.67e+05. This might indicate that there are\n",
      "strong multicollinearity or other numerical problems.\n"
     ]
    }
   ],
   "source": [
    "X4 = data['Year']\n",
    "y4 = data['CO_AQI']\n",
    "X4 = sm.add_constant(X4)\n",
    "est4 = sm.OLS(y4, X4.astype(float))\n",
    "est4_v2 = est4.fit()\n",
    "print(est4_v2.summary())"
   ]
  },
  {
   "cell_type": "code",
   "execution_count": 53,
   "id": "female-morris",
   "metadata": {},
   "outputs": [
    {
     "name": "stdout",
     "output_type": "stream",
     "text": [
      "0.0\n"
     ]
    }
   ],
   "source": [
    "print(est4_v2.f_pvalue)"
   ]
  },
  {
   "cell_type": "markdown",
   "id": "usual-refund",
   "metadata": {},
   "source": [
    "We have a small p-value so we reject the null hypothesis and CO AQI seems to decrease by 0.3533 each year. "
   ]
  },
  {
   "cell_type": "markdown",
   "id": "weekly-choice",
   "metadata": {},
   "source": [
    "One thing to note is that in the notes for all these models, it mentions that there can be a strong multicollinearity. This suggests we can make better models by adding interaction terms or using a nonlinear transformation of the predictors for the model (example, increase the degree to 2 (use polynomial features)). I recommend cutting down the size of the data when attempting to do interaction terms because it sometimes can kill the kernal for a jupyter notebook (due to memory issues). "
   ]
  },
  {
   "cell_type": "markdown",
   "id": "equivalent-heavy",
   "metadata": {},
   "source": [
    "For more information about hypothesis testing, check out these sites:\n",
    "- https://www.statisticshowto.com/probability-and-statistics/hypothesis-testing/support-or-reject-null-hypothesis/\n",
    "- https://towardsdatascience.com/hypothesis-testing-in-machine-learning-using-python-a0dc89e169ce"
   ]
  },
  {
   "cell_type": "markdown",
   "id": "indian-distance",
   "metadata": {},
   "source": [
    "### Machine Learning: Decision Tree Classifier "
   ]
  },
  {
   "cell_type": "markdown",
   "id": "dynamic-bunny",
   "metadata": {},
   "source": [
    "I want to make a model that will attempt to predict the state that corresponds to given pollutant information (e.g. given NO2 mean). A good machine learning algorithm for classification is a decision tree classifier. "
   ]
  },
  {
   "cell_type": "markdown",
   "id": "polyphonic-description",
   "metadata": {},
   "source": [
    "For this machine learning model, I'm going to go back to the rawest tidy dataset I had (the one I stored earlier). I don't want to use the dataframe with all my transformations and added columns."
   ]
  },
  {
   "cell_type": "code",
   "execution_count": 54,
   "id": "velvet-blink",
   "metadata": {},
   "outputs": [
    {
     "data": {
      "text/html": [
       "<div>\n",
       "<style scoped>\n",
       "    .dataframe tbody tr th:only-of-type {\n",
       "        vertical-align: middle;\n",
       "    }\n",
       "\n",
       "    .dataframe tbody tr th {\n",
       "        vertical-align: top;\n",
       "    }\n",
       "\n",
       "    .dataframe thead th {\n",
       "        text-align: right;\n",
       "    }\n",
       "</style>\n",
       "<table border=\"1\" class=\"dataframe\">\n",
       "  <thead>\n",
       "    <tr style=\"text-align: right;\">\n",
       "      <th></th>\n",
       "      <th>State_Code</th>\n",
       "      <th>County_Code</th>\n",
       "      <th>Site_Num</th>\n",
       "      <th>Address</th>\n",
       "      <th>State</th>\n",
       "      <th>County</th>\n",
       "      <th>City</th>\n",
       "      <th>Date_Local</th>\n",
       "      <th>NO2_Units</th>\n",
       "      <th>NO2_Mean</th>\n",
       "      <th>...</th>\n",
       "      <th>SO2_Units</th>\n",
       "      <th>SO2_Mean</th>\n",
       "      <th>SO2_1st_Max_Value</th>\n",
       "      <th>SO2_1st_Max_Hour</th>\n",
       "      <th>SO2_AQI</th>\n",
       "      <th>CO_Units</th>\n",
       "      <th>CO_Mean</th>\n",
       "      <th>CO_1st_Max_Value</th>\n",
       "      <th>CO_1st_Max_Hour</th>\n",
       "      <th>CO_AQI</th>\n",
       "    </tr>\n",
       "  </thead>\n",
       "  <tbody>\n",
       "    <tr>\n",
       "      <th>1</th>\n",
       "      <td>4</td>\n",
       "      <td>13</td>\n",
       "      <td>3002</td>\n",
       "      <td>1645 E ROOSEVELT ST-CENTRAL PHOENIX STN</td>\n",
       "      <td>Arizona</td>\n",
       "      <td>Maricopa</td>\n",
       "      <td>Phoenix</td>\n",
       "      <td>2000-01-01</td>\n",
       "      <td>Parts per billion</td>\n",
       "      <td>19.041667</td>\n",
       "      <td>...</td>\n",
       "      <td>Parts per billion</td>\n",
       "      <td>3.000000</td>\n",
       "      <td>9.0</td>\n",
       "      <td>21</td>\n",
       "      <td>13.0</td>\n",
       "      <td>Parts per million</td>\n",
       "      <td>0.878947</td>\n",
       "      <td>2.2</td>\n",
       "      <td>23</td>\n",
       "      <td>25.0</td>\n",
       "    </tr>\n",
       "    <tr>\n",
       "      <th>5</th>\n",
       "      <td>4</td>\n",
       "      <td>13</td>\n",
       "      <td>3002</td>\n",
       "      <td>1645 E ROOSEVELT ST-CENTRAL PHOENIX STN</td>\n",
       "      <td>Arizona</td>\n",
       "      <td>Maricopa</td>\n",
       "      <td>Phoenix</td>\n",
       "      <td>2000-01-02</td>\n",
       "      <td>Parts per billion</td>\n",
       "      <td>22.958333</td>\n",
       "      <td>...</td>\n",
       "      <td>Parts per billion</td>\n",
       "      <td>1.958333</td>\n",
       "      <td>3.0</td>\n",
       "      <td>22</td>\n",
       "      <td>4.0</td>\n",
       "      <td>Parts per million</td>\n",
       "      <td>1.066667</td>\n",
       "      <td>2.3</td>\n",
       "      <td>0</td>\n",
       "      <td>26.0</td>\n",
       "    </tr>\n",
       "    <tr>\n",
       "      <th>9</th>\n",
       "      <td>4</td>\n",
       "      <td>13</td>\n",
       "      <td>3002</td>\n",
       "      <td>1645 E ROOSEVELT ST-CENTRAL PHOENIX STN</td>\n",
       "      <td>Arizona</td>\n",
       "      <td>Maricopa</td>\n",
       "      <td>Phoenix</td>\n",
       "      <td>2000-01-03</td>\n",
       "      <td>Parts per billion</td>\n",
       "      <td>38.125000</td>\n",
       "      <td>...</td>\n",
       "      <td>Parts per billion</td>\n",
       "      <td>5.250000</td>\n",
       "      <td>11.0</td>\n",
       "      <td>19</td>\n",
       "      <td>16.0</td>\n",
       "      <td>Parts per million</td>\n",
       "      <td>1.762500</td>\n",
       "      <td>2.5</td>\n",
       "      <td>8</td>\n",
       "      <td>28.0</td>\n",
       "    </tr>\n",
       "    <tr>\n",
       "      <th>13</th>\n",
       "      <td>4</td>\n",
       "      <td>13</td>\n",
       "      <td>3002</td>\n",
       "      <td>1645 E ROOSEVELT ST-CENTRAL PHOENIX STN</td>\n",
       "      <td>Arizona</td>\n",
       "      <td>Maricopa</td>\n",
       "      <td>Phoenix</td>\n",
       "      <td>2000-01-04</td>\n",
       "      <td>Parts per billion</td>\n",
       "      <td>40.260870</td>\n",
       "      <td>...</td>\n",
       "      <td>Parts per billion</td>\n",
       "      <td>7.083333</td>\n",
       "      <td>16.0</td>\n",
       "      <td>8</td>\n",
       "      <td>23.0</td>\n",
       "      <td>Parts per million</td>\n",
       "      <td>1.829167</td>\n",
       "      <td>3.0</td>\n",
       "      <td>23</td>\n",
       "      <td>34.0</td>\n",
       "    </tr>\n",
       "    <tr>\n",
       "      <th>17</th>\n",
       "      <td>4</td>\n",
       "      <td>13</td>\n",
       "      <td>3002</td>\n",
       "      <td>1645 E ROOSEVELT ST-CENTRAL PHOENIX STN</td>\n",
       "      <td>Arizona</td>\n",
       "      <td>Maricopa</td>\n",
       "      <td>Phoenix</td>\n",
       "      <td>2000-01-05</td>\n",
       "      <td>Parts per billion</td>\n",
       "      <td>48.450000</td>\n",
       "      <td>...</td>\n",
       "      <td>Parts per billion</td>\n",
       "      <td>8.708333</td>\n",
       "      <td>15.0</td>\n",
       "      <td>7</td>\n",
       "      <td>21.0</td>\n",
       "      <td>Parts per million</td>\n",
       "      <td>2.700000</td>\n",
       "      <td>3.7</td>\n",
       "      <td>2</td>\n",
       "      <td>42.0</td>\n",
       "    </tr>\n",
       "  </tbody>\n",
       "</table>\n",
       "<p>5 rows × 28 columns</p>\n",
       "</div>"
      ],
      "text/plain": [
       "    State_Code  County_Code  Site_Num  \\\n",
       "1            4           13      3002   \n",
       "5            4           13      3002   \n",
       "9            4           13      3002   \n",
       "13           4           13      3002   \n",
       "17           4           13      3002   \n",
       "\n",
       "                                    Address    State    County     City  \\\n",
       "1   1645 E ROOSEVELT ST-CENTRAL PHOENIX STN  Arizona  Maricopa  Phoenix   \n",
       "5   1645 E ROOSEVELT ST-CENTRAL PHOENIX STN  Arizona  Maricopa  Phoenix   \n",
       "9   1645 E ROOSEVELT ST-CENTRAL PHOENIX STN  Arizona  Maricopa  Phoenix   \n",
       "13  1645 E ROOSEVELT ST-CENTRAL PHOENIX STN  Arizona  Maricopa  Phoenix   \n",
       "17  1645 E ROOSEVELT ST-CENTRAL PHOENIX STN  Arizona  Maricopa  Phoenix   \n",
       "\n",
       "    Date_Local          NO2_Units   NO2_Mean  ...          SO2_Units  \\\n",
       "1   2000-01-01  Parts per billion  19.041667  ...  Parts per billion   \n",
       "5   2000-01-02  Parts per billion  22.958333  ...  Parts per billion   \n",
       "9   2000-01-03  Parts per billion  38.125000  ...  Parts per billion   \n",
       "13  2000-01-04  Parts per billion  40.260870  ...  Parts per billion   \n",
       "17  2000-01-05  Parts per billion  48.450000  ...  Parts per billion   \n",
       "\n",
       "    SO2_Mean  SO2_1st_Max_Value SO2_1st_Max_Hour  SO2_AQI           CO_Units  \\\n",
       "1   3.000000                9.0               21     13.0  Parts per million   \n",
       "5   1.958333                3.0               22      4.0  Parts per million   \n",
       "9   5.250000               11.0               19     16.0  Parts per million   \n",
       "13  7.083333               16.0                8     23.0  Parts per million   \n",
       "17  8.708333               15.0                7     21.0  Parts per million   \n",
       "\n",
       "     CO_Mean  CO_1st_Max_Value CO_1st_Max_Hour  CO_AQI  \n",
       "1   0.878947               2.2              23    25.0  \n",
       "5   1.066667               2.3               0    26.0  \n",
       "9   1.762500               2.5               8    28.0  \n",
       "13  1.829167               3.0              23    34.0  \n",
       "17  2.700000               3.7               2    42.0  \n",
       "\n",
       "[5 rows x 28 columns]"
      ]
     },
     "execution_count": 54,
     "metadata": {},
     "output_type": "execute_result"
    }
   ],
   "source": [
    "tidy_data_df.head()"
   ]
  },
  {
   "cell_type": "markdown",
   "id": "convertible-refund",
   "metadata": {},
   "source": [
    "I have a lot of categorical (non-numeric) data that I will need to convert into numericals to create this model. I'm going to use Sklearn's label encoder (check out this [user guide](https://scikit-learn.org/stable/modules/preprocessing_targets.html#preprocessing-targets) ) to do this. "
   ]
  },
  {
   "cell_type": "code",
   "execution_count": 55,
   "id": "noticed-rouge",
   "metadata": {},
   "outputs": [],
   "source": [
    "# Convert categorical data into numerical data\n",
    "label_encoder = LabelEncoder()\n",
    "\n",
    "# I need to include Date_Local due to the format of the date\n",
    "categorical_data = ['Address', 'State','County', 'City', 'NO2_Units', 'O3_Units', 'SO2_Units', 'CO_Units', 'Date_Local']\n",
    "\n",
    "# Transforming the categorical data into numerics\n",
    "for name in categorical_data:\n",
    "    tidy_data_df[name] = label_encoder.fit_transform(tidy_data_df[name])"
   ]
  },
  {
   "cell_type": "markdown",
   "id": "nuclear-soviet",
   "metadata": {},
   "source": [
    "We can now see the transformed data."
   ]
  },
  {
   "cell_type": "code",
   "execution_count": 56,
   "id": "breeding-tragedy",
   "metadata": {},
   "outputs": [
    {
     "data": {
      "text/html": [
       "<div>\n",
       "<style scoped>\n",
       "    .dataframe tbody tr th:only-of-type {\n",
       "        vertical-align: middle;\n",
       "    }\n",
       "\n",
       "    .dataframe tbody tr th {\n",
       "        vertical-align: top;\n",
       "    }\n",
       "\n",
       "    .dataframe thead th {\n",
       "        text-align: right;\n",
       "    }\n",
       "</style>\n",
       "<table border=\"1\" class=\"dataframe\">\n",
       "  <thead>\n",
       "    <tr style=\"text-align: right;\">\n",
       "      <th></th>\n",
       "      <th>State_Code</th>\n",
       "      <th>County_Code</th>\n",
       "      <th>Site_Num</th>\n",
       "      <th>Address</th>\n",
       "      <th>State</th>\n",
       "      <th>County</th>\n",
       "      <th>City</th>\n",
       "      <th>Date_Local</th>\n",
       "      <th>NO2_Units</th>\n",
       "      <th>NO2_Mean</th>\n",
       "      <th>...</th>\n",
       "      <th>SO2_Units</th>\n",
       "      <th>SO2_Mean</th>\n",
       "      <th>SO2_1st_Max_Value</th>\n",
       "      <th>SO2_1st_Max_Hour</th>\n",
       "      <th>SO2_AQI</th>\n",
       "      <th>CO_Units</th>\n",
       "      <th>CO_Mean</th>\n",
       "      <th>CO_1st_Max_Value</th>\n",
       "      <th>CO_1st_Max_Hour</th>\n",
       "      <th>CO_AQI</th>\n",
       "    </tr>\n",
       "  </thead>\n",
       "  <tbody>\n",
       "    <tr>\n",
       "      <th>1</th>\n",
       "      <td>4</td>\n",
       "      <td>13</td>\n",
       "      <td>3002</td>\n",
       "      <td>36</td>\n",
       "      <td>2</td>\n",
       "      <td>74</td>\n",
       "      <td>98</td>\n",
       "      <td>0</td>\n",
       "      <td>0</td>\n",
       "      <td>19.041667</td>\n",
       "      <td>...</td>\n",
       "      <td>0</td>\n",
       "      <td>3.000000</td>\n",
       "      <td>9.0</td>\n",
       "      <td>21</td>\n",
       "      <td>13.0</td>\n",
       "      <td>0</td>\n",
       "      <td>0.878947</td>\n",
       "      <td>2.2</td>\n",
       "      <td>23</td>\n",
       "      <td>25.0</td>\n",
       "    </tr>\n",
       "    <tr>\n",
       "      <th>5</th>\n",
       "      <td>4</td>\n",
       "      <td>13</td>\n",
       "      <td>3002</td>\n",
       "      <td>36</td>\n",
       "      <td>2</td>\n",
       "      <td>74</td>\n",
       "      <td>98</td>\n",
       "      <td>1</td>\n",
       "      <td>0</td>\n",
       "      <td>22.958333</td>\n",
       "      <td>...</td>\n",
       "      <td>0</td>\n",
       "      <td>1.958333</td>\n",
       "      <td>3.0</td>\n",
       "      <td>22</td>\n",
       "      <td>4.0</td>\n",
       "      <td>0</td>\n",
       "      <td>1.066667</td>\n",
       "      <td>2.3</td>\n",
       "      <td>0</td>\n",
       "      <td>26.0</td>\n",
       "    </tr>\n",
       "    <tr>\n",
       "      <th>9</th>\n",
       "      <td>4</td>\n",
       "      <td>13</td>\n",
       "      <td>3002</td>\n",
       "      <td>36</td>\n",
       "      <td>2</td>\n",
       "      <td>74</td>\n",
       "      <td>98</td>\n",
       "      <td>2</td>\n",
       "      <td>0</td>\n",
       "      <td>38.125000</td>\n",
       "      <td>...</td>\n",
       "      <td>0</td>\n",
       "      <td>5.250000</td>\n",
       "      <td>11.0</td>\n",
       "      <td>19</td>\n",
       "      <td>16.0</td>\n",
       "      <td>0</td>\n",
       "      <td>1.762500</td>\n",
       "      <td>2.5</td>\n",
       "      <td>8</td>\n",
       "      <td>28.0</td>\n",
       "    </tr>\n",
       "    <tr>\n",
       "      <th>13</th>\n",
       "      <td>4</td>\n",
       "      <td>13</td>\n",
       "      <td>3002</td>\n",
       "      <td>36</td>\n",
       "      <td>2</td>\n",
       "      <td>74</td>\n",
       "      <td>98</td>\n",
       "      <td>3</td>\n",
       "      <td>0</td>\n",
       "      <td>40.260870</td>\n",
       "      <td>...</td>\n",
       "      <td>0</td>\n",
       "      <td>7.083333</td>\n",
       "      <td>16.0</td>\n",
       "      <td>8</td>\n",
       "      <td>23.0</td>\n",
       "      <td>0</td>\n",
       "      <td>1.829167</td>\n",
       "      <td>3.0</td>\n",
       "      <td>23</td>\n",
       "      <td>34.0</td>\n",
       "    </tr>\n",
       "    <tr>\n",
       "      <th>17</th>\n",
       "      <td>4</td>\n",
       "      <td>13</td>\n",
       "      <td>3002</td>\n",
       "      <td>36</td>\n",
       "      <td>2</td>\n",
       "      <td>74</td>\n",
       "      <td>98</td>\n",
       "      <td>4</td>\n",
       "      <td>0</td>\n",
       "      <td>48.450000</td>\n",
       "      <td>...</td>\n",
       "      <td>0</td>\n",
       "      <td>8.708333</td>\n",
       "      <td>15.0</td>\n",
       "      <td>7</td>\n",
       "      <td>21.0</td>\n",
       "      <td>0</td>\n",
       "      <td>2.700000</td>\n",
       "      <td>3.7</td>\n",
       "      <td>2</td>\n",
       "      <td>42.0</td>\n",
       "    </tr>\n",
       "  </tbody>\n",
       "</table>\n",
       "<p>5 rows × 28 columns</p>\n",
       "</div>"
      ],
      "text/plain": [
       "    State_Code  County_Code  Site_Num  Address  State  County  City  \\\n",
       "1            4           13      3002       36      2      74    98   \n",
       "5            4           13      3002       36      2      74    98   \n",
       "9            4           13      3002       36      2      74    98   \n",
       "13           4           13      3002       36      2      74    98   \n",
       "17           4           13      3002       36      2      74    98   \n",
       "\n",
       "    Date_Local  NO2_Units   NO2_Mean  ...  SO2_Units  SO2_Mean  \\\n",
       "1            0          0  19.041667  ...          0  3.000000   \n",
       "5            1          0  22.958333  ...          0  1.958333   \n",
       "9            2          0  38.125000  ...          0  5.250000   \n",
       "13           3          0  40.260870  ...          0  7.083333   \n",
       "17           4          0  48.450000  ...          0  8.708333   \n",
       "\n",
       "    SO2_1st_Max_Value  SO2_1st_Max_Hour  SO2_AQI  CO_Units   CO_Mean  \\\n",
       "1                 9.0                21     13.0         0  0.878947   \n",
       "5                 3.0                22      4.0         0  1.066667   \n",
       "9                11.0                19     16.0         0  1.762500   \n",
       "13               16.0                 8     23.0         0  1.829167   \n",
       "17               15.0                 7     21.0         0  2.700000   \n",
       "\n",
       "    CO_1st_Max_Value  CO_1st_Max_Hour  CO_AQI  \n",
       "1                2.2               23    25.0  \n",
       "5                2.3                0    26.0  \n",
       "9                2.5                8    28.0  \n",
       "13               3.0               23    34.0  \n",
       "17               3.7                2    42.0  \n",
       "\n",
       "[5 rows x 28 columns]"
      ]
     },
     "execution_count": 56,
     "metadata": {},
     "output_type": "execute_result"
    }
   ],
   "source": [
    "tidy_data_df.head()"
   ]
  },
  {
   "cell_type": "markdown",
   "id": "prerequisite-translator",
   "metadata": {},
   "source": [
    "For this model my feature targets are the states. \n",
    "\n",
    "For X, I need to drop the state code, address, county, city, county code and site num in addition to the targets because I want to classify purely off of the pollutant data. If I don't drop this, the model would use that to classify and that would defeat the purpose because the state code corresponds to a specific state. I would get an accuracy of 1 with that model, which is not correct nor ideal."
   ]
  },
  {
   "cell_type": "code",
   "execution_count": 57,
   "id": "expected-point",
   "metadata": {},
   "outputs": [],
   "source": [
    "y = tidy_data_df['State']\n",
    "X = tidy_data_df.drop(['State', 'State_Code', 'Address','County', 'City', 'County_Code', 'Site_Num'], axis=1)"
   ]
  },
  {
   "cell_type": "markdown",
   "id": "southeast-destiny",
   "metadata": {},
   "source": [
    "I'm going to use holdout validation to test my model so I need to split the data first. "
   ]
  },
  {
   "cell_type": "code",
   "execution_count": 58,
   "id": "regulated-subdivision",
   "metadata": {},
   "outputs": [],
   "source": [
    "# Splitting data\n",
    "X_train, X_test, y_train, y_test = model_selection.train_test_split(X, y)"
   ]
  },
  {
   "cell_type": "markdown",
   "id": "forty-scale",
   "metadata": {},
   "source": [
    "I'm using sklearn's GridSearchCV to determine my hyperparameters. GridsearchCV is a method for hyperparameter tuning. Check out this [resource](https://scikit-learn.org/stable/modules/grid_search.html) for more information about this procedure. "
   ]
  },
  {
   "cell_type": "code",
   "execution_count": 59,
   "id": "considered-fight",
   "metadata": {},
   "outputs": [],
   "source": [
    "dec_tree = tree.DecisionTreeClassifier()"
   ]
  },
  {
   "cell_type": "code",
   "execution_count": 60,
   "id": "soviet-gates",
   "metadata": {},
   "outputs": [],
   "source": [
    "# Hyperparameters I need to choose\n",
    "criterion = ['gini', 'entropy']\n",
    "splitter = ['best', 'random']\n",
    "max_depth = [2,3,4,5,6,7,8,9,10,12,14,16,18,20,24,28]"
   ]
  },
  {
   "cell_type": "code",
   "execution_count": 61,
   "id": "august-gender",
   "metadata": {},
   "outputs": [],
   "source": [
    "hyperparameters = dict(criterion=criterion, splitter=splitter, max_depth=max_depth)"
   ]
  },
  {
   "cell_type": "code",
   "execution_count": 62,
   "id": "aging-status",
   "metadata": {},
   "outputs": [],
   "source": [
    "# Choosing the best hyperparameters and fitting the model\n",
    "clf_GS = GridSearchCV(dec_tree, hyperparameters)"
   ]
  },
  {
   "cell_type": "code",
   "execution_count": 63,
   "id": "accompanied-biography",
   "metadata": {},
   "outputs": [
    {
     "data": {
      "text/plain": [
       "GridSearchCV(estimator=DecisionTreeClassifier(),\n",
       "             param_grid={'criterion': ['gini', 'entropy'],\n",
       "                         'max_depth': [2, 3, 4, 5, 6, 7, 8, 9, 10, 12, 14, 16,\n",
       "                                       18, 20, 24, 28],\n",
       "                         'splitter': ['best', 'random']})"
      ]
     },
     "execution_count": 63,
     "metadata": {},
     "output_type": "execute_result"
    }
   ],
   "source": [
    "clf_GS.fit(X_train, y_train)"
   ]
  },
  {
   "cell_type": "markdown",
   "id": "funny-sympathy",
   "metadata": {},
   "source": [
    "The hyperparameters I chose for this model are the following. "
   ]
  },
  {
   "cell_type": "code",
   "execution_count": 64,
   "id": "monthly-delhi",
   "metadata": {},
   "outputs": [
    {
     "name": "stdout",
     "output_type": "stream",
     "text": [
      "Best Criterion: entropy\n",
      "Best Splitter: best\n",
      "Best max_depth: 14\n"
     ]
    }
   ],
   "source": [
    "print('Best Criterion:', clf_GS.best_estimator_.get_params()['criterion'])\n",
    "print('Best Splitter:', clf_GS.best_estimator_.get_params()['splitter'])\n",
    "print('Best max_depth:', clf_GS.best_estimator_.get_params()['max_depth'])"
   ]
  },
  {
   "cell_type": "markdown",
   "id": "trying-principle",
   "metadata": {},
   "source": [
    "I can now check the accuracy of the model by using my testing data. "
   ]
  },
  {
   "cell_type": "code",
   "execution_count": 65,
   "id": "radical-uganda",
   "metadata": {},
   "outputs": [
    {
     "data": {
      "text/plain": [
       "0.4759702982081872"
      ]
     },
     "execution_count": 65,
     "metadata": {},
     "output_type": "execute_result"
    }
   ],
   "source": [
    "accuracy_decision_tree = clf_GS.best_estimator_.score(X_test, y_test)\n",
    "accuracy_decision_tree"
   ]
  },
  {
   "cell_type": "markdown",
   "id": "express-clearance",
   "metadata": {},
   "source": [
    "Ouch. That accuracy is not very good. \n",
    "\n",
    "But, this result was sort-of expected. Looking back to the states and pollutant mean bar graph from section 3, we see that the amount of each pollutant for each state doesn't differ by much and they all have similar patterns- for example, 03 generally is the most abundant for all states. It would be hard to distinguish which state is what with such similar data."
   ]
  },
  {
   "cell_type": "markdown",
   "id": "inclusive-conversion",
   "metadata": {},
   "source": [
    "## Section 5: Conclusion"
   ]
  },
  {
   "cell_type": "markdown",
   "id": "banner-depth",
   "metadata": {},
   "source": [
    "### Insights and Policy Decision"
   ]
  },
  {
   "cell_type": "markdown",
   "id": "extended-hammer",
   "metadata": {},
   "source": [
    "From the data we analyzed, we seem to be on a good trend in that air pollution seems to be decreasing, indicated by the general decrease in mean AQI for each pollutant. \n",
    "\n",
    "However, this doesn't mean that we should stop trying to reduce pollution. We especially need to focus on lowering our ozone pollution because that dominates greatly for many states compared to the other three. From our linear models, we also see that ozone AQI is decreasing by the least amount compared to the other three pollutants. \n",
    "\n",
    "If we as a society keep making good decisions, like carpooling to reduce the burning of fossil fuels, we can maintain a healthy environment to live in. We only have one planet to live on so it's important that we take care of it.\n",
    "\n",
    "Click [here](https://www.aqi.in/blog/10-best-ways-to-reduce-air-pollution/) and [here](https://www3.epa.gov/region1/airquality/reducepollution.html) to find out about some easy ways you can reduce air pollution. "
   ]
  }
 ],
 "metadata": {
  "kernelspec": {
   "display_name": "Python 3",
   "language": "python",
   "name": "python3"
  },
  "language_info": {
   "codemirror_mode": {
    "name": "ipython",
    "version": 3
   },
   "file_extension": ".py",
   "mimetype": "text/x-python",
   "name": "python",
   "nbconvert_exporter": "python",
   "pygments_lexer": "ipython3",
   "version": "3.8.6"
  }
 },
 "nbformat": 4,
 "nbformat_minor": 5
}
